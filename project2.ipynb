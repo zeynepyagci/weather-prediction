{
 "cells": [
  {
   "cell_type": "code",
   "execution_count": 2,
   "id": "52b01e7e-0251-4c79-9275-187dc284826f",
   "metadata": {},
   "outputs": [],
   "source": [
    "import pandas as pd\n",
    "import numpy as np\n",
    "import matplotlib.pyplot as plt\n",
    "import seaborn as sns\n",
    "from sklearn.metrics import precision_recall_fscore_support, accuracy_score, confusion_matrix, ConfusionMatrixDisplay, f1_score\n",
    "from sklearn.model_selection import train_test_split, GridSearchCV\n",
    "from sklearn.tree import DecisionTreeClassifier\n",
    "from sklearn.ensemble import RandomForestClassifier\n",
    "from sklearn.neural_network import MLPClassifier\n",
    "from sklearn import preprocessing\n",
    "from sklearn.feature_selection import SelectKBest, mutual_info_regression\n",
    "import datetime\n",
    "import time\n",
    "import tkinter as tk\n",
    "from matplotlib.figure import Figure\n",
    "from matplotlib.backends.backend_tkagg import FigureCanvasTkAgg, NavigationToolbar2Tk\n",
    "from PIL import ImageTk, Image"
   ]
  },
  {
   "cell_type": "code",
   "execution_count": 3,
   "id": "84eaf3c3-386c-49b5-ae45-7d0ad487b300",
   "metadata": {},
   "outputs": [],
   "source": [
    "df = pd.read_csv('Istanbul Weather Data.csv')"
   ]
  },
  {
   "cell_type": "code",
   "execution_count": 24,
   "id": "42aedee8-80ef-4874-9988-0f9f9d9b537b",
   "metadata": {},
   "outputs": [
    {
     "name": "stdout",
     "output_type": "stream",
     "text": [
      "    DateTime             Condition  Rain  MaxTemp  MinTemp  SunRise  SunSet  \\\n",
      "0 2019-09-02         Partly cloudy   0.0       27       22      392    1177   \n",
      "1 2019-09-01         Partly cloudy   0.0       27       22      391    1178   \n",
      "2 2019-08-31  Patchy rain possible   0.5       26       22      390    1180   \n",
      "3 2019-08-30         Partly cloudy   0.0       27       22      389    1182   \n",
      "4 2019-08-29         Partly cloudy   0.0       27       23      387    1183   \n",
      "\n",
      "   MoonRise  MoonSet  AvgWind  AvgHumidity  AvgPressure  Day  Month  Year  \\\n",
      "0       592     1305       23           66         1012    2      9  2019   \n",
      "1       517     1273       21           66         1011    1      9  2019   \n",
      "2       441     1240       22           63         1015   31      8  2019   \n",
      "3       364     1205       20           64         1016   30      8  2019   \n",
      "4       287     1166       24           61         1015   29      8  2019   \n",
      "\n",
      "   Kategori  \n",
      "0         0  \n",
      "1         0  \n",
      "2         2  \n",
      "3         0  \n",
      "4         0  \n",
      "(3896, 16)\n"
     ]
    }
   ],
   "source": [
    "print(df.head())\n",
    "print(df.shape)"
   ]
  },
  {
   "cell_type": "code",
   "execution_count": 5,
   "id": "e37ce396-dca7-4540-b7bb-b645b92d80cb",
   "metadata": {},
   "outputs": [
    {
     "name": "stdout",
     "output_type": "stream",
     "text": [
      "263\n"
     ]
    }
   ],
   "source": [
    "df=df.dropna(axis=1, how='all')\n",
    "null_values=df.isnull().sum()\n",
    "print(null_values.sum())"
   ]
  },
  {
   "cell_type": "code",
   "execution_count": 6,
   "id": "fcb97c02-8ef6-4925-880f-9a45bdaa03ee",
   "metadata": {},
   "outputs": [],
   "source": [
    "for colName in df.columns:\n",
    "    df[colName] = df[colName].fillna(df[colName].value_counts().index[0])"
   ]
  },
  {
   "cell_type": "code",
   "execution_count": 8,
   "id": "f60d3e55-9941-4ae3-a986-1904ff6c5af4",
   "metadata": {},
   "outputs": [],
   "source": [
    "df['DateTime'] = pd.to_datetime(df['DateTime'])  # Tarih sütununu datetime veri tipine dönüştürün\n",
    "df['Day'] = df['DateTime'].dt.day  # Gün bilgisini elde edin\n",
    "df['Month'] = df['DateTime'].dt.month  # Ay bilgisini elde edin\n",
    "df['Year'] = df['DateTime'].dt.year  # Yıl bilgisini elde edin\n",
    "data = df.drop(['DateTime'], axis=1)  # Tarih sütununu kaldırın"
   ]
  },
  {
   "cell_type": "code",
   "execution_count": 7,
   "id": "98afc1b1-4ccd-47e8-a123-adbd70ed6c2d",
   "metadata": {},
   "outputs": [],
   "source": [
    "df[\"DateTime\"]=pd.to_datetime(df[\"DateTime\"],format= '%d.%m.%Y').values.astype(np.int64)\n",
    "df[\"SunRise\"] = df['SunRise'].str.split(':').apply(lambda x: int(x[0]) * 60 + int(x[1]))\n",
    "df[\"SunSet\"] = df['SunSet'].str.split(':').apply(lambda x: int(x[0]) * 60 + int(x[1]))\n",
    "df[\"MoonRise\"] = df['MoonRise'].str.split(':').apply(lambda x: int(x[0]) * 60 + int(x[1]))\n",
    "df[\"MoonSet\"] = df['MoonSet'].str.split(':').apply(lambda x: int(x[0]) * 60 + int(x[1]))"
   ]
  },
  {
   "cell_type": "code",
   "execution_count": 9,
   "id": "1ed54f0c-88f5-439e-9c9a-aff3fdc7c6aa",
   "metadata": {},
   "outputs": [],
   "source": [
    "df = pd.concat([df,pd.DataFrame(columns=[\"Kategori\"])],axis=1)"
   ]
  },
  {
   "cell_type": "code",
   "execution_count": 10,
   "id": "8969f2fa-5be7-4037-8a11-d80da10acea0",
   "metadata": {},
   "outputs": [],
   "source": [
    "df.loc[df[\"Condition\"]==\"Torrential rain shower\",\"Kategori\"]=\"Siddetli Yagmurlu\"\n",
    "df.loc[df[\"Condition\"]==\"Heavy rain at times\",\"Kategori\"]=\"Siddetli Yagmurlu\"\n",
    "df.loc[df[\"Condition\"]==\"Light rain shower\",\"Kategori\"]=\"Siddetli Yagmurlu\"\n",
    "df.loc[df[\"Condition\"]==\"Moderate or heavy rain shower\",\"Kategori\"]=\"Siddetli Yagmurlu\"\n",
    "df.loc[df[\"Condition\"]==\"Moderate or heavy rain with thunder\",\"Kategori\"]=\"Siddetli Yagmurlu\"\n",
    "df.loc[df[\"Condition\"]==\"Sunny\",\"Kategori\"]=\"Gunesli\"\n",
    "df.loc[df[\"Condition\"]==\"Partly cloudy\",\"Kategori\"]=\"Bulutlu\"\n",
    "df.loc[df[\"Condition\"]==\"Cloudy\",\"Kategori\"]=\"Bulutlu\"\n",
    "df.loc[df[\"Condition\"]==\"Overcast\",\"Kategori\"]=\"Bulutlu\"\n",
    "df.loc[df[\"Condition\"]==\"Patchy rain possible\",\"Kategori\"]=\"Hafif Yagmurlu\"\n",
    "df.loc[df[\"Condition\"]==\"Light rain\",\"Kategori\"]=\"Hafif Yagmurlu\"\n",
    "df.loc[df[\"Condition\"]==\"Patchy light rain with thunder\",\"Kategori\"]=\"Hafif Yagmurlu\"\n",
    "df.loc[df[\"Condition\"]==\"Moderate rain\",\"Kategori\"]=\"Hafif Yagmurlu\"\n",
    "df.loc[df[\"Condition\"]==\"Light drizzle\",\"Kategori\"]=\"Hafif Yagmurlu\"\n",
    "df.loc[df[\"Condition\"]==\"Light sleet\",\"Kategori\"]=\"Hafif Yagmurlu\"\n",
    "df.loc[df[\"Condition\"]==\"Moderate rain at times\",\"Kategori\"]=\"Hafif Yagmurlu\"\n",
    "df.loc[df[\"Condition\"]==\"Patchy light drizzle\",\"Kategori\"]=\"Hafif Yagmurlu\"\n",
    "df.loc[df[\"Condition\"]==\"Moderate snow\",\"Kategori\"]=\"Karlı\"\n",
    "df.loc[df[\"Condition\"]==\"Moderate or heavy snow showers\",\"Kategori\"]=\"Karlı\"\n",
    "df.loc[df[\"Condition\"]==\"Moderate or heavy sleet\",\"Kategori\"]=\"Karlı\"\n",
    "df.loc[df[\"Condition\"]==\"Fog\",\"Kategori\"]=\"Sisli\"\n",
    "df.loc[df[\"Condition\"]==\"Mist\",\"Kategori\"]=\"Sisli\""
   ]
  },
  {
   "cell_type": "code",
   "execution_count": 11,
   "id": "ed4e149d-85f3-4f34-b731-e27fcd5f956a",
   "metadata": {},
   "outputs": [],
   "source": [
    "le = preprocessing.LabelEncoder()\n",
    "le.fit(df[\"Kategori\"])\n",
    "df[\"Kategori\"]=le.transform(df[\"Kategori\"])"
   ]
  },
  {
   "cell_type": "code",
   "execution_count": 12,
   "id": "4dad1fdc-f6c9-4237-b137-9ff918066549",
   "metadata": {},
   "outputs": [],
   "source": [
    "y = df['Kategori'].values\n",
    "X = df.drop(columns=['Condition','Kategori']).values"
   ]
  },
  {
   "cell_type": "code",
   "execution_count": 13,
   "id": "e09807a3-11a3-4455-b33c-cbdca099a9a7",
   "metadata": {},
   "outputs": [
    {
     "data": {
      "text/plain": [
       "1    2242\n",
       "0    1466\n",
       "2      86\n",
       "6      53\n",
       "4      38\n",
       "5       7\n",
       "3       4\n",
       "Name: Kategori, dtype: int64"
      ]
     },
     "execution_count": 13,
     "metadata": {},
     "output_type": "execute_result"
    }
   ],
   "source": [
    "df['Kategori'].value_counts()"
   ]
  },
  {
   "cell_type": "code",
   "execution_count": 14,
   "id": "37af6eff-12b0-485c-88e5-7329c9df7b6e",
   "metadata": {},
   "outputs": [],
   "source": [
    "df_yeni = df.drop(columns=['Kategori','Condition'])"
   ]
  },
  {
   "cell_type": "code",
   "execution_count": 26,
   "id": "b154824d-4fbc-40ca-9c83-d1504d8b687b",
   "metadata": {},
   "outputs": [],
   "source": [
    "y = df['Kategori'].values\n",
    "X = df_yeni.values"
   ]
  },
  {
   "cell_type": "code",
   "execution_count": 27,
   "id": "7d365881-6397-4247-bbdd-2941ac516eba",
   "metadata": {},
   "outputs": [
    {
     "name": "stdout",
     "output_type": "stream",
     "text": [
      "(3896, 14)\n",
      "(3896,)\n"
     ]
    }
   ],
   "source": [
    "print(X.shape)\n",
    "print(y.shape)"
   ]
  },
  {
   "cell_type": "code",
   "execution_count": 28,
   "id": "e48bc943-9a34-440e-9eb9-9a6b8ac831d1",
   "metadata": {},
   "outputs": [],
   "source": [
    "X_train, X_test, y_train, y_test = train_test_split(X, y, test_size=0.20, random_state=40)"
   ]
  },
  {
   "cell_type": "code",
   "execution_count": 29,
   "id": "1f1dad50-8170-483e-9caa-fbd515e72d9b",
   "metadata": {},
   "outputs": [
    {
     "name": "stdout",
     "output_type": "stream",
     "text": [
      "(3116, 14)\n",
      "(3116,)\n",
      "(780, 14)\n",
      "(780,)\n"
     ]
    }
   ],
   "source": [
    "print(X_train.shape)\n",
    "print(y_train.shape)\n",
    "print(X_test.shape)\n",
    "print(y_test.shape)"
   ]
  },
  {
   "cell_type": "code",
   "execution_count": 30,
   "id": "0c3de08f-2735-4f93-bda1-b05b2842600d",
   "metadata": {},
   "outputs": [],
   "source": [
    "accuracy_values=[]"
   ]
  },
  {
   "cell_type": "code",
   "execution_count": 31,
   "id": "5f27dc07-b3ee-4ff2-ac82-3b6e139da8ef",
   "metadata": {},
   "outputs": [],
   "source": [
    "precision_values=[]"
   ]
  },
  {
   "cell_type": "code",
   "execution_count": 32,
   "id": "211c0a8e-59c3-438c-a27a-28e25e8035ba",
   "metadata": {},
   "outputs": [],
   "source": [
    "coef_values=[]"
   ]
  },
  {
   "cell_type": "code",
   "execution_count": 33,
   "id": "dca4cb98-1811-4989-9d32-0becc42d0cf3",
   "metadata": {},
   "outputs": [],
   "source": [
    "fscore_values=[]"
   ]
  },
  {
   "cell_type": "code",
   "execution_count": 34,
   "id": "d815b489-2ca2-4abc-b2c3-aa01ab42f92b",
   "metadata": {},
   "outputs": [
    {
     "name": "stdout",
     "output_type": "stream",
     "text": [
      "Decision Tree\n",
      "Fitting 4 folds for each of 3 candidates, totalling 12 fits\n"
     ]
    },
    {
     "name": "stderr",
     "output_type": "stream",
     "text": [
      "C:\\Users\\zeeyn\\anaconda3\\lib\\site-packages\\sklearn\\model_selection\\_validation.py:372: FitFailedWarning: \n",
      "12 fits failed out of a total of 12.\n",
      "The score on these train-test partitions for these parameters will be set to nan.\n",
      "If these failures are not expected, you can try to debug them by setting error_score='raise'.\n",
      "\n",
      "Below are more details about the failures:\n",
      "--------------------------------------------------------------------------------\n",
      "12 fits failed with the following error:\n",
      "Traceback (most recent call last):\n",
      "  File \"C:\\Users\\zeeyn\\anaconda3\\lib\\site-packages\\sklearn\\model_selection\\_validation.py\", line 680, in _fit_and_score\n",
      "    estimator.fit(X_train, y_train, **fit_params)\n",
      "  File \"C:\\Users\\zeeyn\\anaconda3\\lib\\site-packages\\sklearn\\tree\\_classes.py\", line 937, in fit\n",
      "    super().fit(\n",
      "  File \"C:\\Users\\zeeyn\\anaconda3\\lib\\site-packages\\sklearn\\tree\\_classes.py\", line 165, in fit\n",
      "    X, y = self._validate_data(\n",
      "  File \"C:\\Users\\zeeyn\\anaconda3\\lib\\site-packages\\sklearn\\base.py\", line 578, in _validate_data\n",
      "    X = check_array(X, **check_X_params)\n",
      "  File \"C:\\Users\\zeeyn\\anaconda3\\lib\\site-packages\\sklearn\\utils\\validation.py\", line 746, in check_array\n",
      "    array = np.asarray(array, order=order, dtype=dtype)\n",
      "TypeError: float() argument must be a string or a number, not 'Timestamp'\n",
      "\n",
      "  warnings.warn(some_fits_failed_message, FitFailedWarning)\n",
      "C:\\Users\\zeeyn\\anaconda3\\lib\\site-packages\\sklearn\\model_selection\\_search.py:969: UserWarning: One or more of the test scores are non-finite: [nan nan nan]\n",
      "  warnings.warn(\n"
     ]
    },
    {
     "ename": "TypeError",
     "evalue": "float() argument must be a string or a number, not 'Timestamp'",
     "output_type": "error",
     "traceback": [
      "\u001b[1;31m---------------------------------------------------------------------------\u001b[0m",
      "\u001b[1;31mTypeError\u001b[0m                                 Traceback (most recent call last)",
      "Input \u001b[1;32mIn [34]\u001b[0m, in \u001b[0;36m<cell line: 7>\u001b[1;34m()\u001b[0m\n\u001b[0;32m      4\u001b[0m parameters\u001b[38;5;241m=\u001b[39m{\u001b[38;5;124m'\u001b[39m\u001b[38;5;124mcriterion\u001b[39m\u001b[38;5;124m'\u001b[39m: [\u001b[38;5;124m\"\u001b[39m\u001b[38;5;124mgini\u001b[39m\u001b[38;5;124m\"\u001b[39m, \u001b[38;5;124m\"\u001b[39m\u001b[38;5;124mentropy\u001b[39m\u001b[38;5;124m\"\u001b[39m, \u001b[38;5;124m\"\u001b[39m\u001b[38;5;124mlog_loss\u001b[39m\u001b[38;5;124m\"\u001b[39m]}\n\u001b[0;32m      6\u001b[0m model \u001b[38;5;241m=\u001b[39m GridSearchCV(dtc, parameters, n_jobs\u001b[38;5;241m=\u001b[39m\u001b[38;5;241m-\u001b[39m\u001b[38;5;241m1\u001b[39m, verbose\u001b[38;5;241m=\u001b[39m\u001b[38;5;241m1\u001b[39m, cv\u001b[38;5;241m=\u001b[39m\u001b[38;5;241m4\u001b[39m)\n\u001b[1;32m----> 7\u001b[0m \u001b[43mmodel\u001b[49m\u001b[38;5;241;43m.\u001b[39;49m\u001b[43mfit\u001b[49m\u001b[43m(\u001b[49m\u001b[43mX_train\u001b[49m\u001b[43m,\u001b[49m\u001b[43m \u001b[49m\u001b[43my_train\u001b[49m\u001b[43m)\u001b[49m\n\u001b[0;32m      9\u001b[0m y_predict \u001b[38;5;241m=\u001b[39m model\u001b[38;5;241m.\u001b[39mpredict(X_train)\n\u001b[0;32m     10\u001b[0m coef \u001b[38;5;241m=\u001b[39m np\u001b[38;5;241m.\u001b[39mcorrcoef(y_predict, y_train)\n",
      "File \u001b[1;32m~\\anaconda3\\lib\\site-packages\\sklearn\\model_selection\\_search.py:926\u001b[0m, in \u001b[0;36mBaseSearchCV.fit\u001b[1;34m(self, X, y, groups, **fit_params)\u001b[0m\n\u001b[0;32m    924\u001b[0m refit_start_time \u001b[38;5;241m=\u001b[39m time\u001b[38;5;241m.\u001b[39mtime()\n\u001b[0;32m    925\u001b[0m \u001b[38;5;28;01mif\u001b[39;00m y \u001b[38;5;129;01mis\u001b[39;00m \u001b[38;5;129;01mnot\u001b[39;00m \u001b[38;5;28;01mNone\u001b[39;00m:\n\u001b[1;32m--> 926\u001b[0m     \u001b[38;5;28mself\u001b[39m\u001b[38;5;241m.\u001b[39mbest_estimator_\u001b[38;5;241m.\u001b[39mfit(X, y, \u001b[38;5;241m*\u001b[39m\u001b[38;5;241m*\u001b[39mfit_params)\n\u001b[0;32m    927\u001b[0m \u001b[38;5;28;01melse\u001b[39;00m:\n\u001b[0;32m    928\u001b[0m     \u001b[38;5;28mself\u001b[39m\u001b[38;5;241m.\u001b[39mbest_estimator_\u001b[38;5;241m.\u001b[39mfit(X, \u001b[38;5;241m*\u001b[39m\u001b[38;5;241m*\u001b[39mfit_params)\n",
      "File \u001b[1;32m~\\anaconda3\\lib\\site-packages\\sklearn\\tree\\_classes.py:937\u001b[0m, in \u001b[0;36mDecisionTreeClassifier.fit\u001b[1;34m(self, X, y, sample_weight, check_input, X_idx_sorted)\u001b[0m\n\u001b[0;32m    899\u001b[0m \u001b[38;5;28;01mdef\u001b[39;00m \u001b[38;5;21mfit\u001b[39m(\n\u001b[0;32m    900\u001b[0m     \u001b[38;5;28mself\u001b[39m, X, y, sample_weight\u001b[38;5;241m=\u001b[39m\u001b[38;5;28;01mNone\u001b[39;00m, check_input\u001b[38;5;241m=\u001b[39m\u001b[38;5;28;01mTrue\u001b[39;00m, X_idx_sorted\u001b[38;5;241m=\u001b[39m\u001b[38;5;124m\"\u001b[39m\u001b[38;5;124mdeprecated\u001b[39m\u001b[38;5;124m\"\u001b[39m\n\u001b[0;32m    901\u001b[0m ):\n\u001b[0;32m    902\u001b[0m     \u001b[38;5;124;03m\"\"\"Build a decision tree classifier from the training set (X, y).\u001b[39;00m\n\u001b[0;32m    903\u001b[0m \n\u001b[0;32m    904\u001b[0m \u001b[38;5;124;03m    Parameters\u001b[39;00m\n\u001b[1;32m   (...)\u001b[0m\n\u001b[0;32m    934\u001b[0m \u001b[38;5;124;03m        Fitted estimator.\u001b[39;00m\n\u001b[0;32m    935\u001b[0m \u001b[38;5;124;03m    \"\"\"\u001b[39;00m\n\u001b[1;32m--> 937\u001b[0m     \u001b[38;5;28;43msuper\u001b[39;49m\u001b[43m(\u001b[49m\u001b[43m)\u001b[49m\u001b[38;5;241;43m.\u001b[39;49m\u001b[43mfit\u001b[49m\u001b[43m(\u001b[49m\n\u001b[0;32m    938\u001b[0m \u001b[43m        \u001b[49m\u001b[43mX\u001b[49m\u001b[43m,\u001b[49m\n\u001b[0;32m    939\u001b[0m \u001b[43m        \u001b[49m\u001b[43my\u001b[49m\u001b[43m,\u001b[49m\n\u001b[0;32m    940\u001b[0m \u001b[43m        \u001b[49m\u001b[43msample_weight\u001b[49m\u001b[38;5;241;43m=\u001b[39;49m\u001b[43msample_weight\u001b[49m\u001b[43m,\u001b[49m\n\u001b[0;32m    941\u001b[0m \u001b[43m        \u001b[49m\u001b[43mcheck_input\u001b[49m\u001b[38;5;241;43m=\u001b[39;49m\u001b[43mcheck_input\u001b[49m\u001b[43m,\u001b[49m\n\u001b[0;32m    942\u001b[0m \u001b[43m        \u001b[49m\u001b[43mX_idx_sorted\u001b[49m\u001b[38;5;241;43m=\u001b[39;49m\u001b[43mX_idx_sorted\u001b[49m\u001b[43m,\u001b[49m\n\u001b[0;32m    943\u001b[0m \u001b[43m    \u001b[49m\u001b[43m)\u001b[49m\n\u001b[0;32m    944\u001b[0m     \u001b[38;5;28;01mreturn\u001b[39;00m \u001b[38;5;28mself\u001b[39m\n",
      "File \u001b[1;32m~\\anaconda3\\lib\\site-packages\\sklearn\\tree\\_classes.py:165\u001b[0m, in \u001b[0;36mBaseDecisionTree.fit\u001b[1;34m(self, X, y, sample_weight, check_input, X_idx_sorted)\u001b[0m\n\u001b[0;32m    163\u001b[0m check_X_params \u001b[38;5;241m=\u001b[39m \u001b[38;5;28mdict\u001b[39m(dtype\u001b[38;5;241m=\u001b[39mDTYPE, accept_sparse\u001b[38;5;241m=\u001b[39m\u001b[38;5;124m\"\u001b[39m\u001b[38;5;124mcsc\u001b[39m\u001b[38;5;124m\"\u001b[39m)\n\u001b[0;32m    164\u001b[0m check_y_params \u001b[38;5;241m=\u001b[39m \u001b[38;5;28mdict\u001b[39m(ensure_2d\u001b[38;5;241m=\u001b[39m\u001b[38;5;28;01mFalse\u001b[39;00m, dtype\u001b[38;5;241m=\u001b[39m\u001b[38;5;28;01mNone\u001b[39;00m)\n\u001b[1;32m--> 165\u001b[0m X, y \u001b[38;5;241m=\u001b[39m \u001b[38;5;28;43mself\u001b[39;49m\u001b[38;5;241;43m.\u001b[39;49m\u001b[43m_validate_data\u001b[49m\u001b[43m(\u001b[49m\n\u001b[0;32m    166\u001b[0m \u001b[43m    \u001b[49m\u001b[43mX\u001b[49m\u001b[43m,\u001b[49m\u001b[43m \u001b[49m\u001b[43my\u001b[49m\u001b[43m,\u001b[49m\u001b[43m \u001b[49m\u001b[43mvalidate_separately\u001b[49m\u001b[38;5;241;43m=\u001b[39;49m\u001b[43m(\u001b[49m\u001b[43mcheck_X_params\u001b[49m\u001b[43m,\u001b[49m\u001b[43m \u001b[49m\u001b[43mcheck_y_params\u001b[49m\u001b[43m)\u001b[49m\n\u001b[0;32m    167\u001b[0m \u001b[43m\u001b[49m\u001b[43m)\u001b[49m\n\u001b[0;32m    168\u001b[0m \u001b[38;5;28;01mif\u001b[39;00m issparse(X):\n\u001b[0;32m    169\u001b[0m     X\u001b[38;5;241m.\u001b[39msort_indices()\n",
      "File \u001b[1;32m~\\anaconda3\\lib\\site-packages\\sklearn\\base.py:578\u001b[0m, in \u001b[0;36mBaseEstimator._validate_data\u001b[1;34m(self, X, y, reset, validate_separately, **check_params)\u001b[0m\n\u001b[0;32m    572\u001b[0m \u001b[38;5;28;01mif\u001b[39;00m validate_separately:\n\u001b[0;32m    573\u001b[0m     \u001b[38;5;66;03m# We need this because some estimators validate X and y\u001b[39;00m\n\u001b[0;32m    574\u001b[0m     \u001b[38;5;66;03m# separately, and in general, separately calling check_array()\u001b[39;00m\n\u001b[0;32m    575\u001b[0m     \u001b[38;5;66;03m# on X and y isn't equivalent to just calling check_X_y()\u001b[39;00m\n\u001b[0;32m    576\u001b[0m     \u001b[38;5;66;03m# :(\u001b[39;00m\n\u001b[0;32m    577\u001b[0m     check_X_params, check_y_params \u001b[38;5;241m=\u001b[39m validate_separately\n\u001b[1;32m--> 578\u001b[0m     X \u001b[38;5;241m=\u001b[39m check_array(X, \u001b[38;5;241m*\u001b[39m\u001b[38;5;241m*\u001b[39mcheck_X_params)\n\u001b[0;32m    579\u001b[0m     y \u001b[38;5;241m=\u001b[39m check_array(y, \u001b[38;5;241m*\u001b[39m\u001b[38;5;241m*\u001b[39mcheck_y_params)\n\u001b[0;32m    580\u001b[0m \u001b[38;5;28;01melse\u001b[39;00m:\n",
      "File \u001b[1;32m~\\anaconda3\\lib\\site-packages\\sklearn\\utils\\validation.py:746\u001b[0m, in \u001b[0;36mcheck_array\u001b[1;34m(array, accept_sparse, accept_large_sparse, dtype, order, copy, force_all_finite, ensure_2d, allow_nd, ensure_min_samples, ensure_min_features, estimator)\u001b[0m\n\u001b[0;32m    744\u001b[0m         array \u001b[38;5;241m=\u001b[39m array\u001b[38;5;241m.\u001b[39mastype(dtype, casting\u001b[38;5;241m=\u001b[39m\u001b[38;5;124m\"\u001b[39m\u001b[38;5;124munsafe\u001b[39m\u001b[38;5;124m\"\u001b[39m, copy\u001b[38;5;241m=\u001b[39m\u001b[38;5;28;01mFalse\u001b[39;00m)\n\u001b[0;32m    745\u001b[0m     \u001b[38;5;28;01melse\u001b[39;00m:\n\u001b[1;32m--> 746\u001b[0m         array \u001b[38;5;241m=\u001b[39m \u001b[43mnp\u001b[49m\u001b[38;5;241;43m.\u001b[39;49m\u001b[43masarray\u001b[49m\u001b[43m(\u001b[49m\u001b[43marray\u001b[49m\u001b[43m,\u001b[49m\u001b[43m \u001b[49m\u001b[43morder\u001b[49m\u001b[38;5;241;43m=\u001b[39;49m\u001b[43morder\u001b[49m\u001b[43m,\u001b[49m\u001b[43m \u001b[49m\u001b[43mdtype\u001b[49m\u001b[38;5;241;43m=\u001b[39;49m\u001b[43mdtype\u001b[49m\u001b[43m)\u001b[49m\n\u001b[0;32m    747\u001b[0m \u001b[38;5;28;01mexcept\u001b[39;00m ComplexWarning \u001b[38;5;28;01mas\u001b[39;00m complex_warning:\n\u001b[0;32m    748\u001b[0m     \u001b[38;5;28;01mraise\u001b[39;00m \u001b[38;5;167;01mValueError\u001b[39;00m(\n\u001b[0;32m    749\u001b[0m         \u001b[38;5;124m\"\u001b[39m\u001b[38;5;124mComplex data not supported\u001b[39m\u001b[38;5;130;01m\\n\u001b[39;00m\u001b[38;5;132;01m{}\u001b[39;00m\u001b[38;5;130;01m\\n\u001b[39;00m\u001b[38;5;124m\"\u001b[39m\u001b[38;5;241m.\u001b[39mformat(array)\n\u001b[0;32m    750\u001b[0m     ) \u001b[38;5;28;01mfrom\u001b[39;00m \u001b[38;5;21;01mcomplex_warning\u001b[39;00m\n",
      "\u001b[1;31mTypeError\u001b[0m: float() argument must be a string or a number, not 'Timestamp'"
     ]
    }
   ],
   "source": [
    "print('Decision Tree')\n",
    "dtc = DecisionTreeClassifier(random_state=1)\n",
    "\n",
    "parameters={'criterion': [\"gini\", \"entropy\", \"log_loss\"]}\n",
    "\n",
    "model = GridSearchCV(dtc, parameters, n_jobs=-1, verbose=1, cv=4)\n",
    "model.fit(X_train, y_train)\n",
    "\n",
    "y_predict = model.predict(X_train)\n",
    "coef = np.corrcoef(y_predict, y_train)\n",
    "accuracy = accuracy_score(y_train, y_predict)\n",
    "precision, recall, fscore, support = precision_recall_fscore_support(y_train, y_predict)\n",
    "conf_matrix1 = confusion_matrix(y_train, y_predict)\n",
    "f1 = f1_score(y_train, y_predict, average='weighted')\n",
    "\n",
    "print('TRAIN RESULTS')\n",
    "print('Train Accuracy: {:.3f}'.format(accuracy))\n",
    "print('Train Precision: {:.3f}'.format(precision[1]))\n",
    "print('Train Recall {:.3f}'.format(recall[1]))\n",
    "print(\"Train F1 Score: {:.3f}\".format(f1))\n",
    "print('Train Correlation Coefficient {:.3f}'.format(coef[0,1]))\n",
    "print('Confusion matrix:')\n",
    "print(conf_matrix1)\n",
    "\n",
    "y_predict = model.predict(X_test)\n",
    "coef = np.corrcoef(y_predict, y_test)\n",
    "accuracy = accuracy_score(y_test, y_predict)\n",
    "precision, recall, fscore, support = precision_recall_fscore_support(y_test, y_predict)\n",
    "conf_matrix1 = confusion_matrix(y_test, y_predict)\n",
    "f1 = f1_score(y_test, y_predict, average='weighted')\n",
    "\n",
    "print('TEST RESULTS')\n",
    "print('Test Accuracy: {:.3f}'.format(accuracy))\n",
    "print('Test Precision: {:.3f}'.format(precision[1]))\n",
    "print('Test Recall {:.3f}'.format(recall[1]))\n",
    "print(\"Train F1 Score: {:.3f}\".format(f1))\n",
    "print('Test Correlation Coefficient {:.3f}'.format(coef[0,1]))\n",
    "print('Confusion matrix:')\n",
    "print(conf_matrix1)\n",
    "\n",
    "decisiontree_accuracy=accuracy\n",
    "accuracy_values.append(decisiontree_accuracy)\n",
    "\n",
    "decisiontree_precision=precision\n",
    "precision_values.append(decisiontree_precision)\n",
    "\n",
    "decisiontree_coef=coef\n",
    "coef_values.append(decisiontree_coef)\n",
    "\n",
    "decisiontree_fscore=fscore\n",
    "fscore_values.append(decisiontree_fscore)\n",
    "    \n",
    "#decisiontree_function()\n",
    "\n",
    "# Giriş değerlerini uygun formata dönüştürme\n",
    "max_temp = float(input(\"MaxTemp değerini girin: \"))\n",
    "min_temp = float(input(\"MinTemp değerini girin: \"))\n",
    "gün = int(input(\"Gün değerini girin: \"))\n",
    "ay = int(input(\"Ay değerini girin: \"))\n",
    "yıl = int(input(\"Yıl değerini girin: \"))\n",
    "avgwind = int(input(\"Wind değerini girin: \"))\n",
    "\n",
    "# Giriş değerlerini uygun formata dönüştürme\n",
    "X_tahmin = np.array([[max_temp, min_temp, gün, ay, yıl, avgwind]])\n",
    "\n",
    "# Tahmini gerçekleştirme\n",
    "tahmin = model.predict(X_tahmin)\n",
    "\n",
    "if tahmin == 0:\n",
    "    print(\"Tahmin edilen hava durumu: siddetli yagmurlu\")\n",
    "if tahmin == 1:\n",
    "    print(\"Tahmin edilen hava durumu: gunesli\")\n",
    "if tahmin == 2:\n",
    "    print(\"Tahmin edilen hava durumu: bulutlu\")\n",
    "if tahmin == 3:\n",
    "    print(\"Tahmin edilen hava durumu: hafif yagmurlu\")\n",
    "if tahmin == 4:\n",
    "    print(\"Tahmin edilen hava durumu: karli\")\n",
    "if tahmin == 5:\n",
    "    print(\"Tahmin edilen hava durumu: sisli\")"
   ]
  },
  {
   "cell_type": "code",
   "execution_count": 22,
   "id": "cebf338b-7709-4a3d-a8da-7aa7a265a04c",
   "metadata": {},
   "outputs": [
    {
     "name": "stdout",
     "output_type": "stream",
     "text": [
      "Random Forest\n",
      "Fitting 4 folds for each of 18 candidates, totalling 72 fits\n"
     ]
    },
    {
     "name": "stderr",
     "output_type": "stream",
     "text": [
      "C:\\Users\\zeeyn\\anaconda3\\lib\\site-packages\\sklearn\\model_selection\\_validation.py:372: FitFailedWarning: \n",
      "24 fits failed out of a total of 72.\n",
      "The score on these train-test partitions for these parameters will be set to nan.\n",
      "If these failures are not expected, you can try to debug them by setting error_score='raise'.\n",
      "\n",
      "Below are more details about the failures:\n",
      "--------------------------------------------------------------------------------\n",
      "24 fits failed with the following error:\n",
      "Traceback (most recent call last):\n",
      "  File \"C:\\Users\\zeeyn\\anaconda3\\lib\\site-packages\\sklearn\\model_selection\\_validation.py\", line 680, in _fit_and_score\n",
      "    estimator.fit(X_train, y_train, **fit_params)\n",
      "  File \"C:\\Users\\zeeyn\\anaconda3\\lib\\site-packages\\sklearn\\ensemble\\_forest.py\", line 450, in fit\n",
      "    trees = Parallel(\n",
      "  File \"C:\\Users\\zeeyn\\anaconda3\\lib\\site-packages\\joblib\\parallel.py\", line 1043, in __call__\n",
      "    if self.dispatch_one_batch(iterator):\n",
      "  File \"C:\\Users\\zeeyn\\anaconda3\\lib\\site-packages\\joblib\\parallel.py\", line 861, in dispatch_one_batch\n",
      "    self._dispatch(tasks)\n",
      "  File \"C:\\Users\\zeeyn\\anaconda3\\lib\\site-packages\\joblib\\parallel.py\", line 779, in _dispatch\n",
      "    job = self._backend.apply_async(batch, callback=cb)\n",
      "  File \"C:\\Users\\zeeyn\\anaconda3\\lib\\site-packages\\joblib\\_parallel_backends.py\", line 208, in apply_async\n",
      "    result = ImmediateResult(func)\n",
      "  File \"C:\\Users\\zeeyn\\anaconda3\\lib\\site-packages\\joblib\\_parallel_backends.py\", line 572, in __init__\n",
      "    self.results = batch()\n",
      "  File \"C:\\Users\\zeeyn\\anaconda3\\lib\\site-packages\\joblib\\parallel.py\", line 262, in __call__\n",
      "    return [func(*args, **kwargs)\n",
      "  File \"C:\\Users\\zeeyn\\anaconda3\\lib\\site-packages\\joblib\\parallel.py\", line 262, in <listcomp>\n",
      "    return [func(*args, **kwargs)\n",
      "  File \"C:\\Users\\zeeyn\\anaconda3\\lib\\site-packages\\sklearn\\utils\\fixes.py\", line 216, in __call__\n",
      "    return self.function(*args, **kwargs)\n",
      "  File \"C:\\Users\\zeeyn\\anaconda3\\lib\\site-packages\\sklearn\\ensemble\\_forest.py\", line 185, in _parallel_build_trees\n",
      "    tree.fit(X, y, sample_weight=curr_sample_weight, check_input=False)\n",
      "  File \"C:\\Users\\zeeyn\\anaconda3\\lib\\site-packages\\sklearn\\tree\\_classes.py\", line 937, in fit\n",
      "    super().fit(\n",
      "  File \"C:\\Users\\zeeyn\\anaconda3\\lib\\site-packages\\sklearn\\tree\\_classes.py\", line 352, in fit\n",
      "    criterion = CRITERIA_CLF[self.criterion](\n",
      "KeyError: 'log_loss'\n",
      "\n",
      "  warnings.warn(some_fits_failed_message, FitFailedWarning)\n",
      "C:\\Users\\zeeyn\\anaconda3\\lib\\site-packages\\sklearn\\model_selection\\_search.py:969: UserWarning: One or more of the test scores are non-finite: [0.77214377 0.78786906 0.78786906 0.77021823 0.78851091 0.79589217\n",
      " 0.77631579 0.7830552  0.79300385 0.77567394 0.78722721 0.79396662\n",
      "        nan        nan        nan        nan        nan        nan]\n",
      "  warnings.warn(\n"
     ]
    },
    {
     "name": "stdout",
     "output_type": "stream",
     "text": [
      "TRAIN RESULTS\n",
      "Train Accuracy: 1.000\n",
      "Train Precision: 0.999\n",
      "Train Recall 1.000\n",
      "Train F1 Score: 1.000\n",
      "Train Correlation Coefficient 1.000\n",
      "Confusion matrix:\n",
      "[[1173    1    0    0    0    0    0]\n",
      " [   0 1783    0    0    0    0    0]\n",
      " [   0    0   74    0    0    0    0]\n",
      " [   0    0    0    4    0    0    0]\n",
      " [   0    0    0    0   32    0    0]\n",
      " [   0    0    0    0    0    6    0]\n",
      " [   0    0    0    0    0    0   43]]\n",
      "TEST RESULTS\n",
      "Test Accuracy: 0.800\n",
      "Test Precision: 0.845\n",
      "Test Recall 0.865\n",
      "Train F1 Score: 0.791\n",
      "Test Correlation Coefficient 0.318\n",
      "Confusion matrix:\n",
      "[[222  68   2   0   0   0]\n",
      " [ 62 397   0   0   0   0]\n",
      " [  5   2   5   0   0   0]\n",
      " [  4   0   2   0   0   0]\n",
      " [  1   0   0   0   0   0]\n",
      " [  6   3   1   0   0   0]]\n"
     ]
    },
    {
     "name": "stderr",
     "output_type": "stream",
     "text": [
      "C:\\Users\\zeeyn\\anaconda3\\lib\\site-packages\\sklearn\\metrics\\_classification.py:1318: UndefinedMetricWarning: Precision and F-score are ill-defined and being set to 0.0 in labels with no predicted samples. Use `zero_division` parameter to control this behavior.\n",
      "  _warn_prf(average, modifier, msg_start, len(result))\n"
     ]
    }
   ],
   "source": [
    "print('Random Forest')\n",
    "rfc = RandomForestClassifier()\n",
    "\n",
    "parameters={'n_estimators': [10, 25, 50],\n",
    "                   'criterion': [\"gini\", \"entropy\", \"log_loss\"],\n",
    "                   'max_features': [\"sqrt\", \"log2\"]}\n",
    "\n",
    "model = GridSearchCV(rfc, parameters, n_jobs=-1, verbose=1, cv=4)\n",
    "model.fit(X_train, y_train)\n",
    "\n",
    "y_predict = model.predict(X_train)\n",
    "coef = np.corrcoef(y_predict, y_train)\n",
    "accuracy = accuracy_score(y_train, y_predict)\n",
    "precision, recall, fscore, support = precision_recall_fscore_support(y_train, y_predict)\n",
    "conf_matrix2 = confusion_matrix(y_train, y_predict)\n",
    "f1 = f1_score(y_train, y_predict, average='weighted')\n",
    "\n",
    "print('TRAIN RESULTS')\n",
    "print('Train Accuracy: {:.3f}'.format(accuracy))\n",
    "print('Train Precision: {:.3f}'.format(precision[1]))\n",
    "print('Train Recall {:.3f}'.format(recall[1]))\n",
    "print(\"Train F1 Score: {:.3f}\".format(f1))\n",
    "print('Train Correlation Coefficient {:.3f}'.format(coef[0,1]))\n",
    "print('Confusion matrix:')\n",
    "print(conf_matrix2)\n",
    "\n",
    "y_predict = model.predict(X_test)\n",
    "coef = np.corrcoef(y_predict, y_test)\n",
    "accuracy = accuracy_score(y_test, y_predict)\n",
    "precision, recall, fscore, support = precision_recall_fscore_support(y_test, y_predict)\n",
    "conf_matrix2 = confusion_matrix(y_test, y_predict)\n",
    "f1 = f1_score(y_test, y_predict, average='weighted')\n",
    "\n",
    "print('TEST RESULTS')\n",
    "print('Test Accuracy: {:.3f}'.format(accuracy))\n",
    "print('Test Precision: {:.3f}'.format(precision[1]))\n",
    "print('Test Recall {:.3f}'.format(recall[1]))\n",
    "print(\"Train F1 Score: {:.3f}\".format(f1))\n",
    "print('Test Correlation Coefficient {:.3f}'.format(coef[0,1]))\n",
    "print('Confusion matrix:')\n",
    "print(conf_matrix2)\n",
    "\n",
    "randomforest_accuracy=accuracy\n",
    "accuracy_values.append(randomforest_accuracy)\n",
    "\n",
    "randomforest1_precision=precision\n",
    "precision_values.append(randomforest1_precision)\n",
    "\n",
    "randomforest1_coef=coef\n",
    "coef_values.append(randomforest1_coef)\n",
    "\n",
    "randomforest1_fscore=fscore\n",
    "fscore_values.append(randomforest1_fscore)\n",
    "    \n",
    "    \n",
    "#randomforest1_function()"
   ]
  },
  {
   "cell_type": "code",
   "execution_count": 23,
   "id": "1b73d82b-8ce5-4324-bd83-84826818324d",
   "metadata": {},
   "outputs": [
    {
     "name": "stdout",
     "output_type": "stream",
     "text": [
      "Random Forest\n",
      "Fitting 4 folds for each of 18 candidates, totalling 72 fits\n"
     ]
    },
    {
     "name": "stderr",
     "output_type": "stream",
     "text": [
      "C:\\Users\\zeeyn\\anaconda3\\lib\\site-packages\\sklearn\\model_selection\\_validation.py:372: FitFailedWarning: \n",
      "24 fits failed out of a total of 72.\n",
      "The score on these train-test partitions for these parameters will be set to nan.\n",
      "If these failures are not expected, you can try to debug them by setting error_score='raise'.\n",
      "\n",
      "Below are more details about the failures:\n",
      "--------------------------------------------------------------------------------\n",
      "24 fits failed with the following error:\n",
      "Traceback (most recent call last):\n",
      "  File \"C:\\Users\\zeeyn\\anaconda3\\lib\\site-packages\\sklearn\\model_selection\\_validation.py\", line 680, in _fit_and_score\n",
      "    estimator.fit(X_train, y_train, **fit_params)\n",
      "  File \"C:\\Users\\zeeyn\\anaconda3\\lib\\site-packages\\sklearn\\ensemble\\_forest.py\", line 450, in fit\n",
      "    trees = Parallel(\n",
      "  File \"C:\\Users\\zeeyn\\anaconda3\\lib\\site-packages\\joblib\\parallel.py\", line 1043, in __call__\n",
      "    if self.dispatch_one_batch(iterator):\n",
      "  File \"C:\\Users\\zeeyn\\anaconda3\\lib\\site-packages\\joblib\\parallel.py\", line 861, in dispatch_one_batch\n",
      "    self._dispatch(tasks)\n",
      "  File \"C:\\Users\\zeeyn\\anaconda3\\lib\\site-packages\\joblib\\parallel.py\", line 779, in _dispatch\n",
      "    job = self._backend.apply_async(batch, callback=cb)\n",
      "  File \"C:\\Users\\zeeyn\\anaconda3\\lib\\site-packages\\joblib\\_parallel_backends.py\", line 208, in apply_async\n",
      "    result = ImmediateResult(func)\n",
      "  File \"C:\\Users\\zeeyn\\anaconda3\\lib\\site-packages\\joblib\\_parallel_backends.py\", line 572, in __init__\n",
      "    self.results = batch()\n",
      "  File \"C:\\Users\\zeeyn\\anaconda3\\lib\\site-packages\\joblib\\parallel.py\", line 262, in __call__\n",
      "    return [func(*args, **kwargs)\n",
      "  File \"C:\\Users\\zeeyn\\anaconda3\\lib\\site-packages\\joblib\\parallel.py\", line 262, in <listcomp>\n",
      "    return [func(*args, **kwargs)\n",
      "  File \"C:\\Users\\zeeyn\\anaconda3\\lib\\site-packages\\sklearn\\utils\\fixes.py\", line 216, in __call__\n",
      "    return self.function(*args, **kwargs)\n",
      "  File \"C:\\Users\\zeeyn\\anaconda3\\lib\\site-packages\\sklearn\\ensemble\\_forest.py\", line 185, in _parallel_build_trees\n",
      "    tree.fit(X, y, sample_weight=curr_sample_weight, check_input=False)\n",
      "  File \"C:\\Users\\zeeyn\\anaconda3\\lib\\site-packages\\sklearn\\tree\\_classes.py\", line 937, in fit\n",
      "    super().fit(\n",
      "  File \"C:\\Users\\zeeyn\\anaconda3\\lib\\site-packages\\sklearn\\tree\\_classes.py\", line 352, in fit\n",
      "    criterion = CRITERIA_CLF[self.criterion](\n",
      "KeyError: 'log_loss'\n",
      "\n",
      "  warnings.warn(some_fits_failed_message, FitFailedWarning)\n",
      "C:\\Users\\zeeyn\\anaconda3\\lib\\site-packages\\sklearn\\model_selection\\_search.py:969: UserWarning: One or more of the test scores are non-finite: [0.79268293 0.79813864 0.79781772 0.79428755 0.79525032 0.79621309\n",
      " 0.79525032 0.79653402 0.79845956 0.79910141 0.79621309 0.79878049\n",
      "        nan        nan        nan        nan        nan        nan]\n",
      "  warnings.warn(\n"
     ]
    },
    {
     "name": "stdout",
     "output_type": "stream",
     "text": [
      "TRAIN RESULTS\n",
      "Train Accuracy: 1.000\n",
      "Train Precision: 1.000\n",
      "Train Recall 1.000\n",
      "Train F1 Score: 1.000\n",
      "Train Correlation Coefficient 1.000\n",
      "Confusion matrix:\n",
      "[[1174    0    0    0    0    0    0]\n",
      " [   0 1783    0    0    0    0    0]\n",
      " [   0    0   74    0    0    0    0]\n",
      " [   0    0    0    4    0    0    0]\n",
      " [   0    0    0    0   32    0    0]\n",
      " [   0    0    0    0    0    6    0]\n",
      " [   0    0    0    0    0    0   43]]\n",
      "TEST RESULTS\n",
      "Test Accuracy: 0.804\n",
      "Test Precision: 0.845\n",
      "Test Recall 0.865\n",
      "Train F1 Score: 0.794\n",
      "Test Correlation Coefficient 0.365\n",
      "Confusion matrix:\n",
      "[[225  67   0   0   0   0]\n",
      " [ 62 397   0   0   0   0]\n",
      " [  5   2   5   0   0   0]\n",
      " [  3   0   3   0   0   0]\n",
      " [  1   0   0   0   0   0]\n",
      " [  5   4   1   0   0   0]]\n"
     ]
    },
    {
     "name": "stderr",
     "output_type": "stream",
     "text": [
      "C:\\Users\\zeeyn\\anaconda3\\lib\\site-packages\\sklearn\\metrics\\_classification.py:1318: UndefinedMetricWarning: Precision and F-score are ill-defined and being set to 0.0 in labels with no predicted samples. Use `zero_division` parameter to control this behavior.\n",
      "  _warn_prf(average, modifier, msg_start, len(result))\n"
     ]
    }
   ],
   "source": [
    "print('Random Forest')\n",
    "rfc = RandomForestClassifier()\n",
    "\n",
    "parameters={'n_estimators': [200, 350, 500],\n",
    "                   'criterion': [\"gini\", \"entropy\", \"log_loss\"],\n",
    "                   'max_features': [\"sqrt\", \"log2\"]}\n",
    "\n",
    "model = GridSearchCV(rfc, parameters, n_jobs=-1, verbose=1, cv=4)\n",
    "model.fit(X_train, y_train)\n",
    "\n",
    "y_predict = model.predict(X_train)\n",
    "coef = np.corrcoef(y_predict, y_train)\n",
    "accuracy = accuracy_score(y_train, y_predict)\n",
    "precision, recall, fscore, support = precision_recall_fscore_support(y_train, y_predict)\n",
    "conf_matrix3 = confusion_matrix(y_train, y_predict)\n",
    "f1 = f1_score(y_train, y_predict, average='weighted')\n",
    "\n",
    "print('TRAIN RESULTS')\n",
    "print('Train Accuracy: {:.3f}'.format(accuracy))\n",
    "print('Train Precision: {:.3f}'.format(precision[1]))\n",
    "print('Train Recall {:.3f}'.format(recall[1]))\n",
    "print(\"Train F1 Score: {:.3f}\".format(f1))\n",
    "print('Train Correlation Coefficient {:.3f}'.format(coef[0,1]))\n",
    "print('Confusion matrix:')\n",
    "print(conf_matrix3)\n",
    "\n",
    "y_predict = model.predict(X_test)\n",
    "coef = np.corrcoef(y_predict, y_test)\n",
    "accuracy = accuracy_score(y_test, y_predict)\n",
    "precision, recall, fscore, support = precision_recall_fscore_support(y_test, y_predict)\n",
    "conf_matrix3 = confusion_matrix(y_test, y_predict)\n",
    "f1 = f1_score(y_test, y_predict, average='weighted')\n",
    "\n",
    "print('TEST RESULTS')\n",
    "print('Test Accuracy: {:.3f}'.format(accuracy))\n",
    "print('Test Precision: {:.3f}'.format(precision[1]))\n",
    "print('Test Recall {:.3f}'.format(recall[1]))\n",
    "print(\"Train F1 Score: {:.3f}\".format(f1))\n",
    "print('Test Correlation Coefficient {:.3f}'.format(coef[0,1]))\n",
    "print('Confusion matrix:')\n",
    "print(conf_matrix3)\n",
    "\n",
    "randomforest2_accuracy=accuracy\n",
    "accuracy_values.append(randomforest2_accuracy)\n",
    "\n",
    "randomforest2_precision=precision\n",
    "precision_values.append(randomforest2_precision)\n",
    "\n",
    "randomforest2_coef=coef\n",
    "coef_values.append(randomforest2_coef)\n",
    "\n",
    "randomforest2_fscore=fscore\n",
    "fscore_values.append(randomforest2_fscore)\n",
    "    \n",
    "#randomforest2_function()"
   ]
  },
  {
   "cell_type": "code",
   "execution_count": 24,
   "id": "7ebe7c49-a062-46cb-9923-d5a8de1c1dc6",
   "metadata": {},
   "outputs": [
    {
     "name": "stdout",
     "output_type": "stream",
     "text": [
      "MLP\n",
      "Fitting 4 folds for each of 45 candidates, totalling 180 fits\n",
      "TRAIN RESULTS\n",
      "Train Accuracy: 0.572\n",
      "Train Precision: 0.572\n",
      "Train Recall 1.000\n",
      "Train F1 Score: 0.794\n",
      "Train Correlation Coefficient nan\n",
      "Confusion matrix:\n",
      "[[   0 1174    0    0    0    0    0]\n",
      " [   0 1783    0    0    0    0    0]\n",
      " [   0   74    0    0    0    0    0]\n",
      " [   0    4    0    0    0    0    0]\n",
      " [   0   32    0    0    0    0    0]\n",
      " [   0    6    0    0    0    0    0]\n",
      " [   0   43    0    0    0    0    0]]\n",
      "TEST RESULTS\n",
      "Test Accuracy: 0.588\n",
      "Test Precision: 0.588\n",
      "Test Recall 1.000\n",
      "Train F1 Score: 0.794\n",
      "Test Correlation Coefficient nan\n",
      "Confusion matrix:\n",
      "[[  0 292   0   0   0   0]\n",
      " [  0 459   0   0   0   0]\n",
      " [  0  12   0   0   0   0]\n",
      " [  0   6   0   0   0   0]\n",
      " [  0   1   0   0   0   0]\n",
      " [  0  10   0   0   0   0]]\n"
     ]
    },
    {
     "name": "stderr",
     "output_type": "stream",
     "text": [
      "C:\\Users\\zeeyn\\anaconda3\\lib\\site-packages\\numpy\\lib\\function_base.py:2691: RuntimeWarning: invalid value encountered in true_divide\n",
      "  c /= stddev[:, None]\n",
      "C:\\Users\\zeeyn\\anaconda3\\lib\\site-packages\\numpy\\lib\\function_base.py:2692: RuntimeWarning: invalid value encountered in true_divide\n",
      "  c /= stddev[None, :]\n",
      "C:\\Users\\zeeyn\\anaconda3\\lib\\site-packages\\sklearn\\metrics\\_classification.py:1318: UndefinedMetricWarning: Precision and F-score are ill-defined and being set to 0.0 in labels with no predicted samples. Use `zero_division` parameter to control this behavior.\n",
      "  _warn_prf(average, modifier, msg_start, len(result))\n",
      "C:\\Users\\zeeyn\\anaconda3\\lib\\site-packages\\numpy\\lib\\function_base.py:2691: RuntimeWarning: invalid value encountered in true_divide\n",
      "  c /= stddev[:, None]\n",
      "C:\\Users\\zeeyn\\anaconda3\\lib\\site-packages\\numpy\\lib\\function_base.py:2692: RuntimeWarning: invalid value encountered in true_divide\n",
      "  c /= stddev[None, :]\n",
      "C:\\Users\\zeeyn\\anaconda3\\lib\\site-packages\\sklearn\\metrics\\_classification.py:1318: UndefinedMetricWarning: Precision and F-score are ill-defined and being set to 0.0 in labels with no predicted samples. Use `zero_division` parameter to control this behavior.\n",
      "  _warn_prf(average, modifier, msg_start, len(result))\n"
     ]
    }
   ],
   "source": [
    "print('MLP')\n",
    "mlc = MLPClassifier(random_state=1, early_stopping=True)\n",
    "# MLP\n",
    "parameters={'learning_rate': [\"constant\", \"invscaling\", \"adaptive\"],\n",
    "                   'hidden_layer_sizes': [(10, 5), (15, 10), (20, 15), (100,), (100, 50, 25)],\n",
    "                   'activation': [\"logistic\", \"relu\", \"tanh\"]}\n",
    "\n",
    "model = GridSearchCV(mlc, parameters, n_jobs=-1, verbose=1, cv=4)\n",
    "model.fit(X_train, y_train)\n",
    "\n",
    "y_predict = model.predict(X_train)\n",
    "coef = np.corrcoef(y_predict, y_train)\n",
    "accuracy = accuracy_score(y_train, y_predict)\n",
    "precision, recall, fscore, support = precision_recall_fscore_support(y_train, y_predict)\n",
    "conf_matrix4 = confusion_matrix(y_train, y_predict)\n",
    "#f1 = f1_score(y_train, y_predict, average='weighted')\n",
    "\n",
    "print('TRAIN RESULTS')\n",
    "print('Train Accuracy: {:.3f}'.format(accuracy))\n",
    "print('Train Precision: {:.3f}'.format(precision[1]))\n",
    "print('Train Recall {:.3f}'.format(recall[1]))\n",
    "print(\"Train F1 Score: {:.3f}\".format(f1))\n",
    "print('Train Correlation Coefficient {:.3f}'.format(coef[0,1]))\n",
    "print('Confusion matrix:')\n",
    "print(conf_matrix4)\n",
    "\n",
    "y_predict = model.predict(X_test)\n",
    "coef = np.corrcoef(y_predict, y_test)\n",
    "accuracy = accuracy_score(y_test, y_predict)\n",
    "precision, recall, fscore, support = precision_recall_fscore_support(y_test, y_predict)\n",
    "conf_matrix4 = confusion_matrix(y_test, y_predict)\n",
    "#f1 = f1_score(y_test, y_predict, average='weighted')\n",
    "\n",
    "print('TEST RESULTS')\n",
    "print('Test Accuracy: {:.3f}'.format(accuracy))\n",
    "print('Test Precision: {:.3f}'.format(precision[1]))\n",
    "print('Test Recall {:.3f}'.format(recall[1]))\n",
    "print(\"Train F1 Score: {:.3f}\".format(f1))\n",
    "print('Test Correlation Coefficient {:.3f}'.format(coef[0,1]))\n",
    "print('Confusion matrix:')\n",
    "print(conf_matrix4)\n",
    "\n",
    "mlp_accuracy=accuracy\n",
    "accuracy_values.append(mlp_accuracy)\n",
    "\n",
    "mlp_precision=precision\n",
    "precision_values.append(mlp_precision)\n",
    "\n",
    "mlp_coef=coef\n",
    "coef_values.append(mlp_coef)\n",
    "\n",
    "mlp_fscore=fscore\n",
    "fscore_values.append(mlp_fscore)\n",
    "    \n",
    "#mlp_function()"
   ]
  },
  {
   "cell_type": "code",
   "execution_count": 25,
   "id": "48990af4-18d2-4d9a-b776-4e66e3328e6a",
   "metadata": {},
   "outputs": [],
   "source": [
    "def decisiontree_function():\n",
    "    \n",
    "    frame = tk.Toplevel(window)\n",
    "    frame.title(\"Heatmap of Decision Tree\")\n",
    "\n",
    "    fig = Figure(figsize=(7, 6), dpi=100)\n",
    "    ax = fig.add_subplot(111)\n",
    "\n",
    "    sns.heatmap(conf_matrix1, cmap=\"Blues\", annot=True, fmt=\"d\", xticklabels=[\"siddetli y.\",\"gunesli\",\"bulutlu\",\"hafif y.\",\"karlı\",\"sisli\"], yticklabels=[\"siddetli y.\",\"gunesli\",\"bulutlu\",\"hafif y.\",\"karlı\",\"sisli\"], ax=ax)\n",
    "    ax.set_xlabel(\"Predicted\")\n",
    "    ax.set_ylabel(\"Actual\")\n",
    "\n",
    "    canvas = FigureCanvasTkAgg(fig, master=frame)\n",
    "    canvas.draw()\n",
    "    canvas.get_tk_widget().pack()\n",
    "\n",
    "    toolbar = NavigationToolbar2Tk(canvas, frame)\n",
    "    toolbar.update()\n",
    "    canvas.get_tk_widget().pack()\n",
    "\n",
    "    \n",
    "\n",
    "def randomforest1_function():\n",
    "    frame = tk.Toplevel(window)\n",
    "    frame.title(\"Heatmap of Random Forest 1\")\n",
    "\n",
    "    fig = Figure(figsize=(7, 6), dpi=100)\n",
    "    ax = fig.add_subplot(111)\n",
    "\n",
    "    sns.heatmap(conf_matrix2, cmap=\"Blues\", annot=True, fmt=\"d\", xticklabels=[\"siddetli y.\",\"gunesli\",\"bulutlu\",\"hafif y.\",\"karlı\",\"sisli\"], yticklabels=[\"siddetli y.\",\"gunesli\",\"bulutlu\",\"hafif y.\",\"karlı\",\"sisli\"], ax=ax)\n",
    "    ax.set_xlabel(\"Predicted\")\n",
    "    ax.set_ylabel(\"Actual\")\n",
    "\n",
    "    canvas = FigureCanvasTkAgg(fig, master=frame)\n",
    "    canvas.draw()\n",
    "    canvas.get_tk_widget().pack()\n",
    "\n",
    "    toolbar = NavigationToolbar2Tk(canvas, frame)\n",
    "    toolbar.update()\n",
    "    canvas.get_tk_widget().pack()\n",
    "\n",
    "\n",
    "    \n",
    "\n",
    "def randomforest2_function():\n",
    "    frame = tk.Toplevel(window)\n",
    "    frame.title(\"Heatmap of Random Forest 2\")\n",
    "\n",
    "    fig = Figure(figsize=(7, 6), dpi=100)\n",
    "    ax = fig.add_subplot(111)\n",
    "\n",
    "    sns.heatmap(conf_matrix3, cmap=\"Blues\", annot=True, fmt=\"d\", xticklabels=[\"siddetli y.\",\"gunesli\",\"bulutlu\",\"hafif y.\",\"karlı\",\"sisli\"], yticklabels=[\"siddetli y.\",\"gunesli\",\"bulutlu\",\"hafif y.\",\"karlı\",\"sisli\"], ax=ax)\n",
    "    ax.set_xlabel(\"Predicted\")\n",
    "    ax.set_ylabel(\"Actual\")\n",
    "\n",
    "    canvas = FigureCanvasTkAgg(fig, master=frame)\n",
    "    canvas.draw()\n",
    "    canvas.get_tk_widget().pack()\n",
    "\n",
    "    toolbar = NavigationToolbar2Tk(canvas, frame)\n",
    "    toolbar.update()\n",
    "    canvas.get_tk_widget().pack()\n",
    "\n",
    "\n",
    "    \n",
    "\n",
    "def mlp_function():\n",
    "    frame = tk.Toplevel(window)\n",
    "    frame.title(\"Heatmap of Multi Layer Perceptron\")\n",
    "\n",
    "    fig = Figure(figsize=(7, 6), dpi=100)\n",
    "    ax = fig.add_subplot(111)\n",
    "\n",
    "    sns.heatmap(conf_matrix4, cmap=\"Blues\", annot=True, fmt=\"d\", xticklabels=[\"siddetli y.\",\"gunesli\",\"bulutlu\",\"hafif y.\",\"karlı\",\"sisli\"], yticklabels=[\"siddetli y.\",\"gunesli\",\"bulutlu\",\"hafif y.\",\"karlı\",\"sisli\"], ax=ax)\n",
    "    ax.set_xlabel(\"Predicted\")\n",
    "    ax.set_ylabel(\"Actual\")\n",
    "\n",
    "    canvas = FigureCanvasTkAgg(fig, master=frame)\n",
    "    canvas.draw()\n",
    "    canvas.get_tk_widget().pack()\n",
    "\n",
    "    toolbar = NavigationToolbar2Tk(canvas, frame)\n",
    "    toolbar.update()\n",
    "    canvas.get_tk_widget().pack()\n"
   ]
  },
  {
   "cell_type": "code",
   "execution_count": 26,
   "id": "0379a6fa-97fc-48be-a4d3-27c135259854",
   "metadata": {},
   "outputs": [],
   "source": [
    "algorithm_names=[\"Desicion Tree\", \"Random Forest 1\", \"Random Forest 2\", \"MLP\"]"
   ]
  },
  {
   "cell_type": "code",
   "execution_count": 27,
   "id": "8465d057-d2b1-4746-a566-6d8d2383a09c",
   "metadata": {},
   "outputs": [
    {
     "name": "stdout",
     "output_type": "stream",
     "text": [
      "[0.7102564102564103, 0.8, 0.8038461538461539, 0.5884615384615385]\n"
     ]
    }
   ],
   "source": [
    "print(accuracy_values)"
   ]
  },
  {
   "cell_type": "code",
   "execution_count": 28,
   "id": "f83961f2-4046-4ae8-b609-e294a94aa8af",
   "metadata": {},
   "outputs": [
    {
     "name": "stdout",
     "output_type": "stream",
     "text": [
      "[array([0.64310954, 0.7987013 , 0.11111111, 0.        , 0.28571429,\n",
      "       0.        , 0.        ]), array([0.74      , 0.84468085, 0.5       , 0.        , 0.        ,\n",
      "       0.        ]), array([0.74750831, 0.84468085, 0.55555556, 0.        , 0.        ,\n",
      "       0.        ]), array([0.        , 0.58846154, 0.        , 0.        , 0.        ,\n",
      "       0.        ])]\n"
     ]
    }
   ],
   "source": [
    "print(precision_values)"
   ]
  },
  {
   "cell_type": "code",
   "execution_count": 29,
   "id": "13f1fa31-a8b0-4643-8b17-41684fe3f8d2",
   "metadata": {},
   "outputs": [
    {
     "name": "stdout",
     "output_type": "stream",
     "text": [
      "[array([[1.        , 0.09706747],\n",
      "       [0.09706747, 1.        ]]), array([[1.        , 0.31756655],\n",
      "       [0.31756655, 1.        ]]), array([[1.        , 0.36453384],\n",
      "       [0.36453384, 1.        ]]), array([[nan, nan],\n",
      "       [nan,  1.]])]\n"
     ]
    }
   ],
   "source": [
    "print(coef_values)"
   ]
  },
  {
   "cell_type": "code",
   "execution_count": 30,
   "id": "6b03c7c9-3aaa-433d-b2c0-0253e7624514",
   "metadata": {},
   "outputs": [
    {
     "name": "stdout",
     "output_type": "stream",
     "text": [
      "[array([0.63304348, 0.80130293, 0.0952381 , 0.        , 0.30769231,\n",
      "       0.        , 0.        ]), array([0.75      , 0.85468245, 0.45454545, 0.        , 0.        ,\n",
      "       0.        ]), array([0.75885329, 0.85468245, 0.47619048, 0.        , 0.        ,\n",
      "       0.        ]), array([0.       , 0.7409201, 0.       , 0.       , 0.       , 0.       ])]\n"
     ]
    }
   ],
   "source": [
    "print(fscore_values)"
   ]
  },
  {
   "cell_type": "code",
   "execution_count": 31,
   "id": "6d8a0bac-494f-48fb-8b87-49050ee12baf",
   "metadata": {},
   "outputs": [],
   "source": [
    "def comparison():\n",
    "\n",
    "    # Plotting the bar chart\n",
    "    plt.figure(figsize=(10, 6))\n",
    "    plt.bar(algorithm_names, accuracy_values)\n",
    "    plt.xlabel(\"Algorithms\")\n",
    "    plt.ylabel(\"Accuracy Values\")\n",
    "    plt.title(\"Accuracy Values of Machine Learning Algorithms\")\n",
    "\n",
    "    # Creating a new window for the plot\n",
    "    window = tk.Toplevel()\n",
    "    window.title(\"Accuracy Values of Machine Learning Algorithms\")\n",
    "    window.geometry(\"700x500\")\n",
    "\n",
    "    # Embedding the plot in the Tkinter window\n",
    "    canvas = FigureCanvasTkAgg(plt.gcf(), master=window)\n",
    "    canvas.draw()\n",
    "    canvas.get_tk_widget().pack()\n",
    "\n",
    "    # Adding a toolbar for navigation\n",
    "    toolbar = NavigationToolbar2Tk(canvas, window)\n",
    "    toolbar.update()\n",
    "    canvas.get_tk_widget().pack()"
   ]
  },
  {
   "cell_type": "code",
   "execution_count": 32,
   "id": "6be72f73-817b-469e-b89e-d1344f0243d4",
   "metadata": {},
   "outputs": [],
   "source": [
    "def decisiontreevalues():\n",
    "    # Creating a new window for the plot\n",
    "    window = tk.Toplevel()\n",
    "    window.title(\"Decision Tree Values\")\n",
    "    window.geometry(\"400x500\")\n",
    "    window.configure(background=\"lightblue\")\n",
    "    \n",
    "    accuracy_text = \"Accuracy: \" + str(accuracy_values[0])\n",
    "    precision_text = \"Precision: \" + str(precision_values[0][1])\n",
    "    coef_text = \"Correlation Coefficient: \" + str(coef_values[0][0][1])\n",
    "    fscore_text = \"F1 Score: \" + str(fscore_values[0][0])\n",
    "    \n",
    "    label1 = tk.Label(window, text=accuracy_text, fg=\"dark blue\")\n",
    "    label1.pack()\n",
    "    \n",
    "    label2 = tk.Label(window, text=precision_text, fg=\"dark blue\")\n",
    "    label2.pack()\n",
    "    \n",
    "    label3 = tk.Label(window, text=coef_text, fg=\"dark blue\")\n",
    "    label3.pack()\n",
    "    \n",
    "    label4 = tk.Label(window, text=fscore_text, fg=\"dark blue\")\n",
    "    label4.pack()\n",
    "\n",
    "    # Embedding the plot in the Tkinter window\n",
    "    canvas = FigureCanvasTkAgg(plt.gcf(), master=window)\n",
    "    canvas.draw()\n",
    "    canvas.get_tk_widget().pack()\n",
    "\n",
    "    # Adding a toolbar for navigation\n",
    "    toolbar = NavigationToolbar2Tk(canvas, window)\n",
    "    toolbar.update()\n",
    "    canvas.get_tk_widget().pack()"
   ]
  },
  {
   "cell_type": "code",
   "execution_count": 33,
   "id": "fe3e49be-9511-4b37-9284-8494e2a453e5",
   "metadata": {},
   "outputs": [],
   "source": [
    "def randomforest1values():\n",
    "    # Creating a new window for the plot\n",
    "    window = tk.Toplevel()\n",
    "    window.title(\"Random Forest 1 Values\")\n",
    "    window.geometry(\"400x500\")\n",
    "    window.configure(background=\"lightblue\")\n",
    "    \n",
    "    accuracy_text = \"Accuracy: \" + str(accuracy_values[1])\n",
    "    precision_text = \"Precision: \" + str(precision_values[1][1])\n",
    "    coef_text = \"Correlation Coefficient: \" + str(coef_values[1][1][0])\n",
    "    fscore_text = \"F1 Score: \" + str(fscore_values[0][0])\n",
    "    \n",
    "    label1 = tk.Label(window, text=accuracy_text, fg=\"dark blue\")\n",
    "    label1.pack()\n",
    "    \n",
    "    label2 = tk.Label(window, text=precision_text, fg=\"dark blue\")\n",
    "    label2.pack()\n",
    "    \n",
    "    label3 = tk.Label(window, text=coef_text, fg=\"dark blue\")\n",
    "    label3.pack()\n",
    "    \n",
    "    label4 = tk.Label(window, text=fscore_text, fg=\"dark blue\")\n",
    "    label4.pack()\n",
    "\n",
    "    # Embedding the plot in the Tkinter window\n",
    "    canvas = FigureCanvasTkAgg(plt.gcf(), master=window)\n",
    "    canvas.draw()\n",
    "    canvas.get_tk_widget().pack()\n",
    "\n",
    "    # Adding a toolbar for navigation\n",
    "    toolbar = NavigationToolbar2Tk(canvas, window)\n",
    "    toolbar.update()\n",
    "    canvas.get_tk_widget().pack()"
   ]
  },
  {
   "cell_type": "code",
   "execution_count": 34,
   "id": "8cb17c43-5a49-4c93-bdcc-2034f2835642",
   "metadata": {},
   "outputs": [],
   "source": [
    "def randomforest2values():\n",
    "    # Creating a new window for the plot\n",
    "    window = tk.Toplevel()\n",
    "    window.title(\"Random Forest 2 Values\")\n",
    "    window.geometry(\"400x500\")\n",
    "    window.configure(background=\"lightblue\")\n",
    "    \n",
    "    accuracy_text = \"Accuracy: \" + str(accuracy_values[2])\n",
    "    precision_text = \"Precision: \" + str(precision_values[2][1])\n",
    "    coef_text = \"Correlation Coefficient: \" + str(coef_values[2][1][0])\n",
    "    fscore_text = \"F1 Score: \" + str(fscore_values[0][0])\n",
    "    \n",
    "    label1 = tk.Label(window, text=accuracy_text, fg=\"dark blue\")\n",
    "    label1.pack()\n",
    "    \n",
    "    label2 = tk.Label(window, text=precision_text, fg=\"dark blue\")\n",
    "    label2.pack()\n",
    "    \n",
    "    label3 = tk.Label(window, text=coef_text, fg=\"dark blue\")\n",
    "    label3.pack()\n",
    "    \n",
    "    label4 = tk.Label(window, text=fscore_text, fg=\"dark blue\")\n",
    "    label4.pack()\n",
    "\n",
    "    # Embedding the plot in the Tkinter window\n",
    "    canvas = FigureCanvasTkAgg(plt.gcf(), master=window)\n",
    "    canvas.draw()\n",
    "    canvas.get_tk_widget().pack()\n",
    "\n",
    "    # Adding a toolbar for navigation\n",
    "    toolbar = NavigationToolbar2Tk(canvas, window)\n",
    "    toolbar.update()\n",
    "    canvas.get_tk_widget().pack()"
   ]
  },
  {
   "cell_type": "code",
   "execution_count": 35,
   "id": "6fea4684-1f4a-4b11-a021-1ab122c18282",
   "metadata": {},
   "outputs": [],
   "source": [
    "def mlpvalues():\n",
    "    # Creating a new window for the plot\n",
    "    window = tk.Toplevel()\n",
    "    window.title(\"MLP Values\")\n",
    "    window.geometry(\"400x500\")\n",
    "    window.configure(background=\"lightblue\")\n",
    "    \n",
    "    accuracy_text = \"Accuracy: \" + str(accuracy_values[3])\n",
    "    precision_text = \"Precision: \" + str(precision_values[3][1])\n",
    "    coef_text = \"Correlation Coefficient: \" + str(coef_values[3][1][0])\n",
    "    fscore_text = \"F1 Score: \" + str(fscore_values[0][0])\n",
    "    \n",
    "    label1 = tk.Label(window, text=accuracy_text, fg=\"dark blue\")\n",
    "    label1.pack()\n",
    "    \n",
    "    label2 = tk.Label(window, text=precision_text, fg=\"dark blue\")\n",
    "    label2.pack()\n",
    "    \n",
    "    label3 = tk.Label(window, text=coef_text, fg=\"dark blue\")\n",
    "    label3.pack()\n",
    "    \n",
    "    label4 = tk.Label(window, text=fscore_text, fg=\"dark blue\")\n",
    "    label4.pack()\n",
    "\n",
    "    # Embedding the plot in the Tkinter window\n",
    "    canvas = FigureCanvasTkAgg(plt.gcf(), master=window)\n",
    "    canvas.draw()\n",
    "    canvas.get_tk_widget().pack()\n",
    "\n",
    "    # Adding a toolbar for navigation\n",
    "    toolbar = NavigationToolbar2Tk(canvas, window)\n",
    "    toolbar.update()\n",
    "    canvas.get_tk_widget().pack()"
   ]
  },
  {
   "cell_type": "code",
   "execution_count": 36,
   "id": "99ebd409-296c-4582-a886-cc30f5bb9ef1",
   "metadata": {},
   "outputs": [
    {
     "data": {
      "image/png": "[encoded data removed]",
      "text/plain": [
       "<Figure size 720x432 with 1 Axes>"
      ]
     },
     "metadata": {
      "needs_background": "light"
     },
     "output_type": "display_data"
    }
   ],
   "source": [
    "plt.figure(figsize=(10, 6))\n",
    "plt.bar(algorithm_names, accuracy_values)\n",
    "plt.xlabel(\"Algorithms\")\n",
    "plt.ylabel(\"Accuracy Values\")\n",
    "plt.title(\"Accuracy Values of Machine Learning Algorithms\")\n",
    "plt.show()"
   ]
  },
  {
   "cell_type": "code",
   "execution_count": 37,
   "id": "2ad60023-b6d7-4092-bbaf-81863023ec43",
   "metadata": {},
   "outputs": [
    {
     "data": {
      "image/png": "[encoded data removed]",
      "text/plain": [
       "<Figure size 432x288 with 1 Axes>"
      ]
     },
     "metadata": {
      "needs_background": "light"
     },
     "output_type": "display_data"
    }
   ],
   "source": [
    "plt.plot(algorithm_names, accuracy_values)\n",
    "plt.xlabel('Algorithms')\n",
    "plt.ylabel('Accuracy Values')\n",
    "plt.title('Line Plot')\n",
    "plt.show()"
   ]
  },
  {
   "cell_type": "code",
   "execution_count": 38,
   "id": "8b3c175d-7d74-4289-89f5-d6a9504cd250",
   "metadata": {},
   "outputs": [
    {
     "data": {
      "image/png": "[encoded data removed]",
      "text/plain": [
       "<Figure size 432x288 with 1 Axes>"
      ]
     },
     "metadata": {
      "needs_background": "light"
     },
     "output_type": "display_data"
    }
   ],
   "source": [
    "plt.scatter(algorithm_names, accuracy_values)\n",
    "plt.xlabel('Algorithms')\n",
    "plt.ylabel('Accuracy Values')\n",
    "plt.title('Scatter Plot')\n",
    "plt.show()"
   ]
  },
  {
   "cell_type": "code",
   "execution_count": 39,
   "id": "53920ad3-1fdd-48a2-afb3-48f5e247a208",
   "metadata": {},
   "outputs": [],
   "source": [
    "def get_row_info():\n",
    "    try:\n",
    "        row_index = int(entry.get()) - 1  # Kullanıcıdan alınan sayıyı satır indeksi olarak kullanıyoruz\n",
    "        row = df.iloc[row_index]  # İlgili satırı seçiyoruz\n",
    "\n",
    "        # Satır bilgilerini gösteren bir mesaj kutusu oluşturuyoruz\n",
    "        message = f\"DateTime: {row['DateTime']}\\nCondition: {row['Condition']}\\nRain: {row['Rain']}\\nMaxTemp: {row['MaxTemp']}\\nMinTemp: {row['MinTemp']}\\nSunRise: {row['SunRise']}\\nSunSet: {row['SunSet']}\\nMoonRise: {row['MoonRise']}\\nMoonSet: {row['MoonSet']}\\nAvgWind: {row['AvgWind']}\\nAvgHumidity: {row['AvgHumidity']}\\nAvgPressure: {row['AvgPressure']}\\nKategori: {row['Kategori']}\"\n",
    "        tk.messagebox.showinfo(\"Satır Bilgileri\", message)\n",
    "    except Exception as e:\n",
    "        tk.messagebox.showerror(\"Hata\", \"Geçersiz giriş!\")\n",
    "\n",
    "#root = tk.Tk()"
   ]
  },
  {
   "cell_type": "code",
   "execution_count": 40,
   "id": "f0f0ef5f-f0cf-4b8b-990f-b4fc134f7080",
   "metadata": {},
   "outputs": [],
   "source": [
    "def exit_program():\n",
    "    window.destroy()"
   ]
  },
  {
   "cell_type": "code",
   "execution_count": 43,
   "id": "2ad2d9f4-d2ec-4e13-8189-d57fc3f5068c",
   "metadata": {},
   "outputs": [],
   "source": [
    "window = tk.Tk()\n",
    "window.title(\"WEATHER CONDITION\")\n",
    "window.geometry(\"400x500\")\n",
    "window.configure(background=\"lightblue\")\n",
    "\n",
    "label = tk.Label(window, text=\"Please choose any machine learning algorithm or enter a number\", fg=\"dark blue\")\n",
    "label.place(x=23,y=90)\n",
    "\n",
    "entry = tk.Entry(window)\n",
    "entry.place(x=136,y=111)\n",
    "\n",
    "button = tk.Button(window, text=\"Get Info\", command=get_row_info)\n",
    "button.place(x=171,y=130)\n",
    "\n",
    "button2 = tk.Button(window, text=\"Decision Tree Heatmap\", command=decisiontree_function, relief=\"groove\")\n",
    "button2.place(x=23,y=200)\n",
    "\n",
    "button3 = tk.Button(window, text=\"Random Forest 1 Heatmap\", command=randomforest1_function, relief=\"groove\")\n",
    "button3.place(x=23,y=250)\n",
    "\n",
    "button4 = tk.Button(window, text=\"Random Forest 2 Heatmap\", command=randomforest2_function, relief=\"groove\")\n",
    "button4.place(x=23,y=300)\n",
    "\n",
    "button5 = tk.Button(window, text=\"MLP Heatmap\", command=mlp_function, relief=\"groove\")\n",
    "button5.place(x=23,y=350)\n",
    "\n",
    "button6 = tk.Button(window, text=\"Comparison of all algorithms\", command=comparison, relief =\"groove\")\n",
    "button6.place(x=120,y=400)\n",
    "\n",
    "button7 = tk.Button(window, text=\"Decision Tree Values\", command=decisiontreevalues, relief=\"groove\")\n",
    "button7.place(x=230,y=200)\n",
    "\n",
    "button8 = tk.Button(window, text=\"Random Forest 1 Values\", command=randomforest1values, relief=\"groove\")\n",
    "button8.place(x=230,y=250)\n",
    "\n",
    "button9 = tk.Button(window, text=\"Random Forest 2 Values\", command=randomforest2values, relief=\"groove\")\n",
    "button9.place(x=230,y=300)\n",
    "\n",
    "button9 = tk.Button(window, text=\"MLP Values\", command=mlpvalues, relief=\"groove\")\n",
    "button9.place(x=230,y=350)\n",
    "\n",
    "button10 = tk.Button(window, text=\"Exit\", command=exit_program, relief=\"groove\")\n",
    "button10.place(x=180,y=450)\n",
    "\n",
    "window.mainloop()"
   ]
  },
  {
   "cell_type": "code",
   "execution_count": null,
   "id": "f0a16515-0a16-4e5e-abe6-2efdb35eea97",
   "metadata": {},
   "outputs": [],
   "source": []
  }
 ],
 "metadata": {
  "kernelspec": {
   "display_name": "Python 3 (ipykernel)",
   "language": "python",
   "name": "python3"
  },
  "language_info": {
   "codemirror_mode": {
    "name": "ipython",
    "version": 3
   },
   "file_extension": ".py",
   "mimetype": "text/x-python",
   "name": "python",
   "nbconvert_exporter": "python",
   "pygments_lexer": "ipython3",
   "version": "3.9.12"
  }
 },
 "nbformat": 4,
 "nbformat_minor": 5
}
