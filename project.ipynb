{
 "cells": [
  {
   "cell_type": "code",
   "execution_count": 2,
   "id": "bc6d72c2-5d7f-4d12-8f6a-5ad2d26a32ab",
   "metadata": {},
   "outputs": [],
   "source": [
    "import pandas as pd\n",
    "import numpy as np\n",
    "import matplotlib.pyplot as plt\n",
    "import seaborn as sns\n",
    "import tkinter as tk\n",
    "from tkinter import ttk\n",
    "from sklearn.metrics import precision_recall_fscore_support, accuracy_score, confusion_matrix, ConfusionMatrixDisplay, f1_score\n",
    "from sklearn.model_selection import train_test_split, GridSearchCV\n",
    "from sklearn.tree import DecisionTreeClassifier\n",
    "from sklearn.ensemble import RandomForestClassifier\n",
    "from sklearn.neural_network import MLPClassifier\n",
    "from sklearn import preprocessing\n",
    "from sklearn.feature_selection import SelectKBest, mutual_info_regression\n",
    "import datetime\n",
    "import time\n",
    "from matplotlib.figure import Figure\n",
    "from matplotlib.backends.backend_tkagg import FigureCanvasTkAgg, NavigationToolbar2Tk\n",
    "from PIL import ImageTk, Image\n",
    "import ipywidgets as widgets\n",
    "from sklearn.preprocessing import LabelEncoder\n",
    "from IPython.display import display\n",
    "from ipywidgets import DatePicker\n",
    "from datetime import datetime, timedelta"
   ]
  },
  {
   "cell_type": "code",
   "execution_count": 3,
   "id": "e91b94e0-8504-4d54-94eb-061f2c86b902",
   "metadata": {},
   "outputs": [],
   "source": [
    "df = pd.read_csv('Istanbul Weather Data.csv')"
   ]
  },
  {
   "cell_type": "code",
   "execution_count": 4,
   "id": "a7e3fba3-8d8d-4a3c-80f1-4ba238f6d27d",
   "metadata": {},
   "outputs": [
    {
     "name": "stdout",
     "output_type": "stream",
     "text": [
      "     DateTime             Condition  Rain  MaxTemp  MinTemp   SunRise  \\\n",
      "0  02.09.2019         Partly cloudy   0.0       27       22  06:32:00   \n",
      "1  01.09.2019         Partly cloudy   0.0       27       22  06:31:00   \n",
      "2  31.08.2019  Patchy rain possible   0.5       26       22  06:30:00   \n",
      "3  30.08.2019         Partly cloudy   0.0       27       22  06:29:00   \n",
      "4  29.08.2019         Partly cloudy   0.0       27       23  06:27:00   \n",
      "\n",
      "     SunSet MoonRise   MoonSet  AvgWind  AvgHumidity  AvgPressure  \n",
      "0  19:37:00  9:52:00  21:45:00       23           66         1012  \n",
      "1  19:38:00  8:37:00  21:13:00       21           66         1011  \n",
      "2  19:40:00  7:21:00  20:40:00       22           63         1015  \n",
      "3  19:42:00   6:4:00   20:5:00       20           64         1016  \n",
      "4  19:43:00  4:47:00  19:26:00       24           61         1015  \n",
      "(3896, 12)\n"
     ]
    }
   ],
   "source": [
    "print(df.head())\n",
    "print(df.shape)"
   ]
  },
  {
   "cell_type": "code",
   "execution_count": 5,
   "id": "d355df3d-f65c-402d-aa51-b1edf495c5d3",
   "metadata": {},
   "outputs": [
    {
     "name": "stdout",
     "output_type": "stream",
     "text": [
      "263\n"
     ]
    }
   ],
   "source": [
    "df=df.dropna(axis=1, how='all')\n",
    "null_values=df.isnull().sum()\n",
    "print(null_values.sum())"
   ]
  },
  {
   "cell_type": "code",
   "execution_count": 6,
   "id": "20de9213-ca44-46a2-b1de-94b5900d8c36",
   "metadata": {},
   "outputs": [],
   "source": [
    "for colName in df.columns:\n",
    "    df[colName] = df[colName].fillna(df[colName].value_counts().index[0])"
   ]
  },
  {
   "cell_type": "code",
   "execution_count": 8,
   "id": "c43ff6a6-9814-4c6a-b5af-d819e83e7300",
   "metadata": {},
   "outputs": [],
   "source": [
    "df[\"DateTime\"]=pd.to_datetime(df[\"DateTime\"],format= '%d.%m.%Y').values.astype(np.int64)\n",
    "df[\"SunRise\"] = df['SunRise'].str.split(':').apply(lambda x: int(x[0]) * 60 + int(x[1]))\n",
    "df[\"SunSet\"] = df['SunSet'].str.split(':').apply(lambda x: int(x[0]) * 60 + int(x[1]))\n",
    "df[\"MoonRise\"] = df['MoonRise'].str.split(':').apply(lambda x: int(x[0]) * 60 + int(x[1]))\n",
    "df[\"MoonSet\"] = df['MoonSet'].str.split(':').apply(lambda x: int(x[0]) * 60 + int(x[1]))"
   ]
  },
  {
   "cell_type": "code",
   "execution_count": 9,
   "id": "c4f9fd79-9678-478e-94cc-43d501adac2f",
   "metadata": {},
   "outputs": [],
   "source": [
    "df.loc[df[\"Condition\"]==\"Torrential rain shower\",\"Kategori\"]=\"Siddetli Yagmurlu\"\n",
    "df.loc[df[\"Condition\"]==\"Heavy rain at times\",\"Kategori\"]=\"Siddetli Yagmurlu\"\n",
    "df.loc[df[\"Condition\"]==\"Light rain shower\",\"Kategori\"]=\"Siddetli Yagmurlu\"\n",
    "df.loc[df[\"Condition\"]==\"Moderate or heavy rain shower\",\"Kategori\"]=\"Siddetli Yagmurlu\"\n",
    "df.loc[df[\"Condition\"]==\"Moderate or heavy rain with thunder\",\"Kategori\"]=\"Siddetli Yagmurlu\"\n",
    "df.loc[df[\"Condition\"]==\"Sunny\",\"Kategori\"]=\"Gunesli\"\n",
    "df.loc[df[\"Condition\"]==\"Partly cloudy\",\"Kategori\"]=\"Bulutlu\"\n",
    "df.loc[df[\"Condition\"]==\"Cloudy\",\"Kategori\"]=\"Bulutlu\"\n",
    "df.loc[df[\"Condition\"]==\"Overcast\",\"Kategori\"]=\"Bulutlu\"\n",
    "df.loc[df[\"Condition\"]==\"Patchy rain possible\",\"Kategori\"]=\"Hafif Yagmurlu\"\n",
    "df.loc[df[\"Condition\"]==\"Light rain\",\"Kategori\"]=\"Hafif Yagmurlu\"\n",
    "df.loc[df[\"Condition\"]==\"Patchy light rain with thunder\",\"Kategori\"]=\"Hafif Yagmurlu\"\n",
    "df.loc[df[\"Condition\"]==\"Moderate rain\",\"Kategori\"]=\"Hafif Yagmurlu\"\n",
    "df.loc[df[\"Condition\"]==\"Light drizzle\",\"Kategori\"]=\"Hafif Yagmurlu\"\n",
    "df.loc[df[\"Condition\"]==\"Light sleet\",\"Kategori\"]=\"Hafif Yagmurlu\"\n",
    "df.loc[df[\"Condition\"]==\"Moderate rain at times\",\"Kategori\"]=\"Hafif Yagmurlu\"\n",
    "df.loc[df[\"Condition\"]==\"Patchy light drizzle\",\"Kategori\"]=\"Hafif Yagmurlu\"\n",
    "df.loc[df[\"Condition\"]==\"Moderate snow\",\"Kategori\"]=\"Karlı\"\n",
    "df.loc[df[\"Condition\"]==\"Moderate or heavy snow showers\",\"Kategori\"]=\"Karlı\"\n",
    "df.loc[df[\"Condition\"]==\"Moderate or heavy sleet\",\"Kategori\"]=\"Karlı\"\n",
    "df.loc[df[\"Condition\"]==\"Fog\",\"Kategori\"]=\"Sisli\"\n",
    "df.loc[df[\"Condition\"]==\"Mist\",\"Kategori\"]=\"Sisli\""
   ]
  },
  {
   "cell_type": "code",
   "execution_count": 10,
   "id": "112a6ff0-0e88-4c3b-8fb6-969f291ba5c7",
   "metadata": {},
   "outputs": [],
   "source": [
    "le = preprocessing.LabelEncoder()\n",
    "le.fit(df[\"Kategori\"])\n",
    "df[\"Kategori\"]=le.transform(df[\"Kategori\"])"
   ]
  },
  {
   "cell_type": "code",
   "execution_count": 11,
   "id": "aac9e86c-9237-4841-b244-75ef69925d79",
   "metadata": {},
   "outputs": [],
   "source": [
    "y = df['Kategori'].values\n",
    "X = df.drop(columns=['Condition','Kategori']).values"
   ]
  },
  {
   "cell_type": "code",
   "execution_count": 12,
   "id": "d415bf88-720e-4ae0-a874-21a8d1718e7f",
   "metadata": {},
   "outputs": [
    {
     "data": {
      "text/plain": [
       "1    2242\n",
       "0    1466\n",
       "2      86\n",
       "6      53\n",
       "4      38\n",
       "5       7\n",
       "3       4\n",
       "Name: Kategori, dtype: int64"
      ]
     },
     "execution_count": 12,
     "metadata": {},
     "output_type": "execute_result"
    }
   ],
   "source": [
    "df['Kategori'].value_counts()"
   ]
  },
  {
   "cell_type": "code",
   "execution_count": 13,
   "id": "0b2f0f97-9dee-44fa-a1fc-6537946442a0",
   "metadata": {},
   "outputs": [
    {
     "name": "stdout",
     "output_type": "stream",
     "text": [
      "Feature Selection sonucunda seçilen değişkenler\n",
      "Index(['DateTime', 'Rain', 'MaxTemp', 'MinTemp', 'AvgHumidity'], dtype='object')\n"
     ]
    }
   ],
   "source": [
    "select = SelectKBest(mutual_info_regression, k = 5)\n",
    "select.fit(X, y)\n",
    "select.get_support() \n",
    "df_selectedFeature = df[df.drop(columns=['Kategori','Condition']).columns[select.get_support()]]\n",
    "print(\"Feature Selection sonucunda seçilen değişkenler\")\n",
    "print(df_selectedFeature.columns)"
   ]
  },
  {
   "cell_type": "code",
   "execution_count": 14,
   "id": "2d856173-6be6-4845-98a4-eecff45a9d5a",
   "metadata": {},
   "outputs": [],
   "source": [
    "y = df['Kategori'].values\n",
    "X = df_selectedFeature.values"
   ]
  },
  {
   "cell_type": "code",
   "execution_count": 15,
   "id": "54032c2c-86ff-4195-a6b2-b6528c78d2c7",
   "metadata": {},
   "outputs": [
    {
     "name": "stdout",
     "output_type": "stream",
     "text": [
      "(3896, 5)\n",
      "(3896,)\n"
     ]
    }
   ],
   "source": [
    "print(X.shape)\n",
    "print(y.shape)"
   ]
  },
  {
   "cell_type": "code",
   "execution_count": 16,
   "id": "1efddc39-519c-40df-9419-4f77f03d4fd9",
   "metadata": {},
   "outputs": [],
   "source": [
    "X_train, X_test, y_train, y_test = train_test_split(X, y, test_size=0.20, random_state=40)"
   ]
  },
  {
   "cell_type": "code",
   "execution_count": 17,
   "id": "2d3521f5-f335-4639-808d-83b7a6f7a55b",
   "metadata": {},
   "outputs": [
    {
     "name": "stdout",
     "output_type": "stream",
     "text": [
      "(3116, 5)\n",
      "(3116,)\n",
      "(780, 5)\n",
      "(780,)\n"
     ]
    }
   ],
   "source": [
    "print(X_train.shape)\n",
    "print(y_train.shape)\n",
    "print(X_test.shape)\n",
    "print(y_test.shape)"
   ]
  },
  {
   "cell_type": "code",
   "execution_count": 18,
   "id": "e40f1ae4-913a-49e9-913f-5f0be9c410b4",
   "metadata": {},
   "outputs": [],
   "source": [
    "accuracy_values=[]"
   ]
  },
  {
   "cell_type": "code",
   "execution_count": 19,
   "id": "7444f19e-37df-41a7-b3bd-5ab4cae05259",
   "metadata": {},
   "outputs": [],
   "source": [
    "precision_values=[]"
   ]
  },
  {
   "cell_type": "code",
   "execution_count": 20,
   "id": "ebd41c18-4ce8-49f4-a92d-b2ef0458787b",
   "metadata": {},
   "outputs": [],
   "source": [
    "coef_values=[]"
   ]
  },
  {
   "cell_type": "code",
   "execution_count": 21,
   "id": "04c21090-3f57-4c53-a913-a01ae3a34a85",
   "metadata": {},
   "outputs": [],
   "source": [
    "fscore_values=[]"
   ]
  },
  {
   "cell_type": "code",
   "execution_count": 35,
   "id": "b0060a2e-f801-4eb6-9c2d-40853bc1a243",
   "metadata": {},
   "outputs": [
    {
     "name": "stderr",
     "output_type": "stream",
     "text": [
      "C:\\Users\\zeeyn\\anaconda3\\lib\\site-packages\\sklearn\\model_selection\\_validation.py:372: FitFailedWarning: \n",
      "4 fits failed out of a total of 12.\n",
      "The score on these train-test partitions for these parameters will be set to nan.\n",
      "If these failures are not expected, you can try to debug them by setting error_score='raise'.\n",
      "\n",
      "Below are more details about the failures:\n",
      "--------------------------------------------------------------------------------\n",
      "4 fits failed with the following error:\n",
      "Traceback (most recent call last):\n",
      "  File \"C:\\Users\\zeeyn\\anaconda3\\lib\\site-packages\\sklearn\\model_selection\\_validation.py\", line 680, in _fit_and_score\n",
      "    estimator.fit(X_train, y_train, **fit_params)\n",
      "  File \"C:\\Users\\zeeyn\\anaconda3\\lib\\site-packages\\sklearn\\tree\\_classes.py\", line 937, in fit\n",
      "    super().fit(\n",
      "  File \"C:\\Users\\zeeyn\\anaconda3\\lib\\site-packages\\sklearn\\tree\\_classes.py\", line 352, in fit\n",
      "    criterion = CRITERIA_CLF[self.criterion](\n",
      "KeyError: 'log_loss'\n",
      "\n",
      "  warnings.warn(some_fits_failed_message, FitFailedWarning)\n",
      "C:\\Users\\zeeyn\\anaconda3\\lib\\site-packages\\sklearn\\model_selection\\_search.py:969: UserWarning: One or more of the test scores are non-finite: [0.7195122  0.71052632        nan]\n",
      "  warnings.warn(\n",
      "C:\\Users\\zeeyn\\anaconda3\\lib\\site-packages\\sklearn\\metrics\\_classification.py:1318: UndefinedMetricWarning: Precision and F-score are ill-defined and being set to 0.0 in labels with no predicted samples. Use `zero_division` parameter to control this behavior.\n",
      "  _warn_prf(average, modifier, msg_start, len(result))\n"
     ]
    },
    {
     "name": "stdout",
     "output_type": "stream",
     "text": [
      "Decision Tree\n",
      "Fitting 4 folds for each of 3 candidates, totalling 12 fits\n",
      "TRAIN RESULTS\n",
      "Train Accuracy: 1.000\n",
      "Train Precision: 1.000\n",
      "Train Recall 1.000\n",
      "Train F1 Score: 1.000\n",
      "Train Correlation Coefficient 1.000\n",
      "Confusion matrix:\n",
      "[[1174    0    0    0    0    0    0]\n",
      " [   0 1783    0    0    0    0    0]\n",
      " [   0    0   74    0    0    0    0]\n",
      " [   0    0    0    4    0    0    0]\n",
      " [   0    0    0    0   32    0    0]\n",
      " [   0    0    0    0    0    6    0]\n",
      " [   0    0    0    0    0    0   43]]\n",
      "TEST RESULTS\n",
      "Test Accuracy: 0.700\n",
      "Test Precision: 0.792\n",
      "Test Recall 0.786\n",
      "Train F1 Score: 0.703\n",
      "Test Correlation Coefficient 0.106\n",
      "Confusion matrix:\n",
      "[[180  90  13   4   0   5]\n",
      " [ 89 361   1   1   0   7]\n",
      " [  6   2   4   0   0   0]\n",
      " [  5   0   0   1   0   0]\n",
      " [  1   0   0   0   0   0]\n",
      " [  5   3   1   1   0   0]]\n"
     ]
    },
    {
     "name": "stdin",
     "output_type": "stream",
     "text": [
      "Date değerini girin:  30.07.2025\n",
      "Rain değerini girin:  0.2\n",
      "MaxTemp değerini girin:  37\n",
      "MinTemp değerini girin:  35\n",
      "AvgHum değerini girin:  35\n"
     ]
    },
    {
     "name": "stdout",
     "output_type": "stream",
     "text": [
      "Tahmin edilen hava durumu: bulutlu\n"
     ]
    }
   ],
   "source": [
    "print('Decision Tree')\n",
    "dtc = DecisionTreeClassifier(random_state=1)\n",
    "\n",
    "parameters={'criterion': [\"gini\", \"entropy\", \"log_loss\"]}\n",
    "\n",
    "model = GridSearchCV(dtc, parameters, n_jobs=-1, verbose=1, cv=4)\n",
    "model.fit(X_train, y_train)\n",
    "\n",
    "y_predict = model.predict(X_train)\n",
    "coef = np.corrcoef(y_predict, y_train)\n",
    "accuracy = accuracy_score(y_train, y_predict)\n",
    "precision, recall, fscore, support = precision_recall_fscore_support(y_train, y_predict)\n",
    "conf_matrix1 = confusion_matrix(y_train, y_predict)\n",
    "f1 = f1_score(y_train, y_predict, average='weighted')\n",
    "\n",
    "print('TRAIN RESULTS')\n",
    "print('Train Accuracy: {:.3f}'.format(accuracy))\n",
    "print('Train Precision: {:.3f}'.format(precision[1]))\n",
    "print('Train Recall {:.3f}'.format(recall[1]))\n",
    "print(\"Train F1 Score: {:.3f}\".format(f1))\n",
    "print('Train Correlation Coefficient {:.3f}'.format(coef[0,1]))\n",
    "print('Confusion matrix:')\n",
    "print(conf_matrix1)\n",
    "\n",
    "y_predict = model.predict(X_test)\n",
    "coef = np.corrcoef(y_predict, y_test)\n",
    "accuracy = accuracy_score(y_test, y_predict)\n",
    "precision, recall, fscore, support = precision_recall_fscore_support(y_test, y_predict)\n",
    "conf_matrix1 = confusion_matrix(y_test, y_predict)\n",
    "f1 = f1_score(y_test, y_predict, average='weighted')\n",
    "\n",
    "print('TEST RESULTS')\n",
    "print('Test Accuracy: {:.3f}'.format(accuracy))\n",
    "print('Test Precision: {:.3f}'.format(precision[1]))\n",
    "print('Test Recall {:.3f}'.format(recall[1]))\n",
    "print(\"Train F1 Score: {:.3f}\".format(f1))\n",
    "print('Test Correlation Coefficient {:.3f}'.format(coef[0,1]))\n",
    "print('Confusion matrix:')\n",
    "print(conf_matrix1)\n",
    "\n",
    "decisiontree_accuracy=accuracy\n",
    "accuracy_values.append(decisiontree_accuracy)\n",
    "\n",
    "decisiontree_precision=precision\n",
    "precision_values.append(decisiontree_precision)\n",
    "\n",
    "decisiontree_coef=coef\n",
    "coef_values.append(decisiontree_coef)\n",
    "\n",
    "decisiontree_fscore=fscore\n",
    "fscore_values.append(decisiontree_fscore)\n",
    "    \n",
    "    \n",
    "#decisiontree_function()\n",
    "\n",
    "date_str = input(\"Date değerini girin: \")\n",
    "rain = float(input(\"Rain değerini girin: \"))\n",
    "max_temp = float(input(\"MaxTemp değerini girin: \"))\n",
    "min_temp = float(input(\"MinTemp değerini girin: \"))\n",
    "avghum = float(input(\"AvgHum değerini girin: \"))\n",
    "\n",
    "date = pd.to_datetime(date_str, format='%d.%m.%Y')\n",
    "date_int64 = date.value  \n",
    "\n",
    "X_tahmin = np.array([[date_int64, rain, max_temp, min_temp, avghum]])\n",
    "\n",
    "tahmin = model.predict(X_tahmin)\n",
    "\n",
    "if tahmin == 0:\n",
    "    print(\"Tahmin edilen hava durumu: siddetli yagmurlu\")\n",
    "if tahmin == 1:\n",
    "    print(\"Tahmin edilen hava durumu: gunesli\")\n",
    "if tahmin == 2:\n",
    "    print(\"Tahmin edilen hava durumu: bulutlu\")\n",
    "if tahmin == 3:\n",
    "    print(\"Tahmin edilen hava durumu: hafif yagmurlu\")\n",
    "if tahmin == 4:\n",
    "    print(\"Tahmin edilen hava durumu: karli\")\n",
    "if tahmin == 5:\n",
    "    print(\"Tahmin edilen hava durumu: sisli\")\n",
    "\n",
    "\n"
   ]
  },
  {
   "cell_type": "code",
   "execution_count": 22,
   "id": "f4ba6705-af85-492f-a82f-6bf583eb0a45",
   "metadata": {},
   "outputs": [
    {
     "name": "stdout",
     "output_type": "stream",
     "text": [
      "Random Forest\n",
      "Fitting 4 folds for each of 18 candidates, totalling 72 fits\n"
     ]
    },
    {
     "name": "stderr",
     "output_type": "stream",
     "text": [
      "C:\\Users\\zeeyn\\anaconda3\\lib\\site-packages\\sklearn\\model_selection\\_validation.py:372: FitFailedWarning: \n",
      "24 fits failed out of a total of 72.\n",
      "The score on these train-test partitions for these parameters will be set to nan.\n",
      "If these failures are not expected, you can try to debug them by setting error_score='raise'.\n",
      "\n",
      "Below are more details about the failures:\n",
      "--------------------------------------------------------------------------------\n",
      "24 fits failed with the following error:\n",
      "Traceback (most recent call last):\n",
      "  File \"C:\\Users\\zeeyn\\anaconda3\\lib\\site-packages\\sklearn\\model_selection\\_validation.py\", line 680, in _fit_and_score\n",
      "    estimator.fit(X_train, y_train, **fit_params)\n",
      "  File \"C:\\Users\\zeeyn\\anaconda3\\lib\\site-packages\\sklearn\\ensemble\\_forest.py\", line 450, in fit\n",
      "    trees = Parallel(\n",
      "  File \"C:\\Users\\zeeyn\\anaconda3\\lib\\site-packages\\joblib\\parallel.py\", line 1043, in __call__\n",
      "    if self.dispatch_one_batch(iterator):\n",
      "  File \"C:\\Users\\zeeyn\\anaconda3\\lib\\site-packages\\joblib\\parallel.py\", line 861, in dispatch_one_batch\n",
      "    self._dispatch(tasks)\n",
      "  File \"C:\\Users\\zeeyn\\anaconda3\\lib\\site-packages\\joblib\\parallel.py\", line 779, in _dispatch\n",
      "    job = self._backend.apply_async(batch, callback=cb)\n",
      "  File \"C:\\Users\\zeeyn\\anaconda3\\lib\\site-packages\\joblib\\_parallel_backends.py\", line 208, in apply_async\n",
      "    result = ImmediateResult(func)\n",
      "  File \"C:\\Users\\zeeyn\\anaconda3\\lib\\site-packages\\joblib\\_parallel_backends.py\", line 572, in __init__\n",
      "    self.results = batch()\n",
      "  File \"C:\\Users\\zeeyn\\anaconda3\\lib\\site-packages\\joblib\\parallel.py\", line 262, in __call__\n",
      "    return [func(*args, **kwargs)\n",
      "  File \"C:\\Users\\zeeyn\\anaconda3\\lib\\site-packages\\joblib\\parallel.py\", line 262, in <listcomp>\n",
      "    return [func(*args, **kwargs)\n",
      "  File \"C:\\Users\\zeeyn\\anaconda3\\lib\\site-packages\\sklearn\\utils\\fixes.py\", line 216, in __call__\n",
      "    return self.function(*args, **kwargs)\n",
      "  File \"C:\\Users\\zeeyn\\anaconda3\\lib\\site-packages\\sklearn\\ensemble\\_forest.py\", line 185, in _parallel_build_trees\n",
      "    tree.fit(X, y, sample_weight=curr_sample_weight, check_input=False)\n",
      "  File \"C:\\Users\\zeeyn\\anaconda3\\lib\\site-packages\\sklearn\\tree\\_classes.py\", line 937, in fit\n",
      "    super().fit(\n",
      "  File \"C:\\Users\\zeeyn\\anaconda3\\lib\\site-packages\\sklearn\\tree\\_classes.py\", line 352, in fit\n",
      "    criterion = CRITERIA_CLF[self.criterion](\n",
      "KeyError: 'log_loss'\n",
      "\n",
      "  warnings.warn(some_fits_failed_message, FitFailedWarning)\n",
      "C:\\Users\\zeeyn\\anaconda3\\lib\\site-packages\\sklearn\\model_selection\\_search.py:969: UserWarning: One or more of the test scores are non-finite: [0.76893453 0.77952503 0.78369705 0.77278562 0.78337612 0.78209243\n",
      " 0.77214377 0.77920411 0.78818999 0.77759949 0.7843389  0.78626444\n",
      "        nan        nan        nan        nan        nan        nan]\n",
      "  warnings.warn(\n"
     ]
    },
    {
     "name": "stdout",
     "output_type": "stream",
     "text": [
      "TRAIN RESULTS\n",
      "Train Accuracy: 1.000\n",
      "Train Precision: 1.000\n",
      "Train Recall 1.000\n",
      "Train F1 Score: 1.000\n",
      "Train Correlation Coefficient 1.000\n",
      "Confusion matrix:\n",
      "[[1174    0    0    0    0    0    0]\n",
      " [   0 1783    0    0    0    0    0]\n",
      " [   0    0   74    0    0    0    0]\n",
      " [   0    0    0    4    0    0    0]\n",
      " [   0    0    0    0   32    0    0]\n",
      " [   0    0    0    0    0    6    0]\n",
      " [   0    0    0    0    0    0   43]]\n",
      "TEST RESULTS\n",
      "Test Accuracy: 0.778\n",
      "Test Precision: 0.841\n",
      "Test Recall 0.832\n",
      "Train F1 Score: 0.773\n",
      "Test Correlation Coefficient 0.225\n",
      "Confusion matrix:\n",
      "[[218  67   3   0   0   4]\n",
      " [ 77 382   0   0   0   0]\n",
      " [  3   2   7   0   0   0]\n",
      " [  3   0   3   0   0   0]\n",
      " [  1   0   0   0   0   0]\n",
      " [  6   3   1   0   0   0]]\n"
     ]
    },
    {
     "name": "stderr",
     "output_type": "stream",
     "text": [
      "C:\\Users\\zeeyn\\anaconda3\\lib\\site-packages\\sklearn\\metrics\\_classification.py:1318: UndefinedMetricWarning: Precision and F-score are ill-defined and being set to 0.0 in labels with no predicted samples. Use `zero_division` parameter to control this behavior.\n",
      "  _warn_prf(average, modifier, msg_start, len(result))\n"
     ]
    }
   ],
   "source": [
    "\n",
    "print('Random Forest')\n",
    "rfc = RandomForestClassifier()\n",
    "\n",
    "parameters={'n_estimators': [10, 25, 50],\n",
    "                   'criterion': [\"gini\", \"entropy\", \"log_loss\"],\n",
    "                   'max_features': [\"sqrt\", \"log2\"]}\n",
    "\n",
    "model = GridSearchCV(rfc, parameters, n_jobs=-1, verbose=1, cv=4)\n",
    "model.fit(X_train, y_train)\n",
    "\n",
    "y_predict = model.predict(X_train)\n",
    "coef = np.corrcoef(y_predict, y_train)\n",
    "accuracy = accuracy_score(y_train, y_predict)\n",
    "precision, recall, fscore, support = precision_recall_fscore_support(y_train, y_predict)\n",
    "conf_matrix2 = confusion_matrix(y_train, y_predict)\n",
    "f1 = f1_score(y_train, y_predict, average='weighted')\n",
    "\n",
    "print('TRAIN RESULTS')\n",
    "print('Train Accuracy: {:.3f}'.format(accuracy))\n",
    "print('Train Precision: {:.3f}'.format(precision[1]))\n",
    "print('Train Recall {:.3f}'.format(recall[1]))\n",
    "print(\"Train F1 Score: {:.3f}\".format(f1))\n",
    "print('Train Correlation Coefficient {:.3f}'.format(coef[0,1]))\n",
    "print('Confusion matrix:')\n",
    "print(conf_matrix2)\n",
    "\n",
    "y_predict = model.predict(X_test)\n",
    "coef = np.corrcoef(y_predict, y_test)\n",
    "accuracy = accuracy_score(y_test, y_predict)\n",
    "precision, recall, fscore, support = precision_recall_fscore_support(y_test, y_predict)\n",
    "conf_matrix2 = confusion_matrix(y_test, y_predict)\n",
    "f1 = f1_score(y_test, y_predict, average='weighted')\n",
    "\n",
    "print('TEST RESULTS')\n",
    "print('Test Accuracy: {:.3f}'.format(accuracy))\n",
    "print('Test Precision: {:.3f}'.format(precision[1]))\n",
    "print('Test Recall {:.3f}'.format(recall[1]))\n",
    "print(\"Train F1 Score: {:.3f}\".format(f1))\n",
    "print('Test Correlation Coefficient {:.3f}'.format(coef[0,1]))\n",
    "print('Confusion matrix:')\n",
    "print(conf_matrix2)\n",
    "\n",
    "randomforest_accuracy=accuracy\n",
    "accuracy_values.append(randomforest_accuracy)\n",
    "\n",
    "randomforest1_precision=precision\n",
    "precision_values.append(randomforest1_precision)\n",
    "\n",
    "randomforest1_coef=coef\n",
    "coef_values.append(randomforest1_coef)\n",
    "\n",
    "randomforest1_fscore=fscore\n",
    "fscore_values.append(randomforest1_fscore)\n",
    "\n",
    "#randomforest1_function()"
   ]
  },
  {
   "cell_type": "code",
   "execution_count": 23,
   "id": "f2c8c54f-e076-4862-b8a0-4f8e7fdf636e",
   "metadata": {},
   "outputs": [
    {
     "name": "stdout",
     "output_type": "stream",
     "text": [
      "Random Forest\n",
      "Fitting 4 folds for each of 18 candidates, totalling 72 fits\n"
     ]
    },
    {
     "name": "stderr",
     "output_type": "stream",
     "text": [
      "C:\\Users\\zeeyn\\anaconda3\\lib\\site-packages\\sklearn\\model_selection\\_validation.py:372: FitFailedWarning: \n",
      "24 fits failed out of a total of 72.\n",
      "The score on these train-test partitions for these parameters will be set to nan.\n",
      "If these failures are not expected, you can try to debug them by setting error_score='raise'.\n",
      "\n",
      "Below are more details about the failures:\n",
      "--------------------------------------------------------------------------------\n",
      "24 fits failed with the following error:\n",
      "Traceback (most recent call last):\n",
      "  File \"C:\\Users\\zeeyn\\anaconda3\\lib\\site-packages\\sklearn\\model_selection\\_validation.py\", line 680, in _fit_and_score\n",
      "    estimator.fit(X_train, y_train, **fit_params)\n",
      "  File \"C:\\Users\\zeeyn\\anaconda3\\lib\\site-packages\\sklearn\\ensemble\\_forest.py\", line 450, in fit\n",
      "    trees = Parallel(\n",
      "  File \"C:\\Users\\zeeyn\\anaconda3\\lib\\site-packages\\joblib\\parallel.py\", line 1043, in __call__\n",
      "    if self.dispatch_one_batch(iterator):\n",
      "  File \"C:\\Users\\zeeyn\\anaconda3\\lib\\site-packages\\joblib\\parallel.py\", line 861, in dispatch_one_batch\n",
      "    self._dispatch(tasks)\n",
      "  File \"C:\\Users\\zeeyn\\anaconda3\\lib\\site-packages\\joblib\\parallel.py\", line 779, in _dispatch\n",
      "    job = self._backend.apply_async(batch, callback=cb)\n",
      "  File \"C:\\Users\\zeeyn\\anaconda3\\lib\\site-packages\\joblib\\_parallel_backends.py\", line 208, in apply_async\n",
      "    result = ImmediateResult(func)\n",
      "  File \"C:\\Users\\zeeyn\\anaconda3\\lib\\site-packages\\joblib\\_parallel_backends.py\", line 572, in __init__\n",
      "    self.results = batch()\n",
      "  File \"C:\\Users\\zeeyn\\anaconda3\\lib\\site-packages\\joblib\\parallel.py\", line 262, in __call__\n",
      "    return [func(*args, **kwargs)\n",
      "  File \"C:\\Users\\zeeyn\\anaconda3\\lib\\site-packages\\joblib\\parallel.py\", line 262, in <listcomp>\n",
      "    return [func(*args, **kwargs)\n",
      "  File \"C:\\Users\\zeeyn\\anaconda3\\lib\\site-packages\\sklearn\\utils\\fixes.py\", line 216, in __call__\n",
      "    return self.function(*args, **kwargs)\n",
      "  File \"C:\\Users\\zeeyn\\anaconda3\\lib\\site-packages\\sklearn\\ensemble\\_forest.py\", line 185, in _parallel_build_trees\n",
      "    tree.fit(X, y, sample_weight=curr_sample_weight, check_input=False)\n",
      "  File \"C:\\Users\\zeeyn\\anaconda3\\lib\\site-packages\\sklearn\\tree\\_classes.py\", line 937, in fit\n",
      "    super().fit(\n",
      "  File \"C:\\Users\\zeeyn\\anaconda3\\lib\\site-packages\\sklearn\\tree\\_classes.py\", line 352, in fit\n",
      "    criterion = CRITERIA_CLF[self.criterion](\n",
      "KeyError: 'log_loss'\n",
      "\n",
      "  warnings.warn(some_fits_failed_message, FitFailedWarning)\n",
      "C:\\Users\\zeeyn\\anaconda3\\lib\\site-packages\\sklearn\\model_selection\\_search.py:969: UserWarning: One or more of the test scores are non-finite: [0.79204108 0.79268293 0.79139923 0.79332478 0.79011553 0.79557125\n",
      " 0.79332478 0.79332478 0.79653402 0.79172015 0.79717587 0.79557125\n",
      "        nan        nan        nan        nan        nan        nan]\n",
      "  warnings.warn(\n"
     ]
    },
    {
     "name": "stdout",
     "output_type": "stream",
     "text": [
      "TRAIN RESULTS\n",
      "Train Accuracy: 1.000\n",
      "Train Precision: 1.000\n",
      "Train Recall 1.000\n",
      "Train F1 Score: 1.000\n",
      "Train Correlation Coefficient 1.000\n",
      "Confusion matrix:\n",
      "[[1174    0    0    0    0    0    0]\n",
      " [   0 1783    0    0    0    0    0]\n",
      " [   0    0   74    0    0    0    0]\n",
      " [   0    0    0    4    0    0    0]\n",
      " [   0    0    0    0   32    0    0]\n",
      " [   0    0    0    0    0    6    0]\n",
      " [   0    0    0    0    0    0   43]]\n",
      "TEST RESULTS\n",
      "Test Accuracy: 0.788\n",
      "Test Precision: 0.838\n",
      "Test Recall 0.847\n",
      "Train F1 Score: 0.781\n",
      "Test Correlation Coefficient 0.291\n",
      "Confusion matrix:\n",
      "[[219  68   3   0   0   2]\n",
      " [ 70 389   0   0   0   0]\n",
      " [  2   3   7   0   0   0]\n",
      " [  3   0   3   0   0   0]\n",
      " [  1   0   0   0   0   0]\n",
      " [  5   4   1   0   0   0]]\n"
     ]
    },
    {
     "name": "stderr",
     "output_type": "stream",
     "text": [
      "C:\\Users\\zeeyn\\anaconda3\\lib\\site-packages\\sklearn\\metrics\\_classification.py:1318: UndefinedMetricWarning: Precision and F-score are ill-defined and being set to 0.0 in labels with no predicted samples. Use `zero_division` parameter to control this behavior.\n",
      "  _warn_prf(average, modifier, msg_start, len(result))\n"
     ]
    }
   ],
   "source": [
    "\n",
    "print('Random Forest')\n",
    "rfc = RandomForestClassifier()\n",
    "\n",
    "parameters={'n_estimators': [200, 350, 500],\n",
    "                   'criterion': [\"gini\", \"entropy\", \"log_loss\"],\n",
    "                   'max_features': [\"sqrt\", \"log2\"]}\n",
    "\n",
    "model = GridSearchCV(rfc, parameters, n_jobs=-1, verbose=1, cv=4)\n",
    "model.fit(X_train, y_train)\n",
    "\n",
    "y_predict = model.predict(X_train)\n",
    "coef = np.corrcoef(y_predict, y_train)\n",
    "accuracy = accuracy_score(y_train, y_predict)\n",
    "precision, recall, fscore, support = precision_recall_fscore_support(y_train, y_predict)\n",
    "conf_matrix3 = confusion_matrix(y_train, y_predict)\n",
    "f1 = f1_score(y_train, y_predict, average='weighted')\n",
    "\n",
    "print('TRAIN RESULTS')\n",
    "print('Train Accuracy: {:.3f}'.format(accuracy))\n",
    "print('Train Precision: {:.3f}'.format(precision[1]))\n",
    "print('Train Recall {:.3f}'.format(recall[1]))\n",
    "print(\"Train F1 Score: {:.3f}\".format(f1))\n",
    "print('Train Correlation Coefficient {:.3f}'.format(coef[0,1]))\n",
    "print('Confusion matrix:')\n",
    "print(conf_matrix3)\n",
    "\n",
    "y_predict = model.predict(X_test)\n",
    "coef = np.corrcoef(y_predict, y_test)\n",
    "accuracy = accuracy_score(y_test, y_predict)\n",
    "precision, recall, fscore, support = precision_recall_fscore_support(y_test, y_predict)\n",
    "conf_matrix3 = confusion_matrix(y_test, y_predict)\n",
    "f1 = f1_score(y_test, y_predict, average='weighted')\n",
    "\n",
    "print('TEST RESULTS')\n",
    "print('Test Accuracy: {:.3f}'.format(accuracy))\n",
    "print('Test Precision: {:.3f}'.format(precision[1]))\n",
    "print('Test Recall {:.3f}'.format(recall[1]))\n",
    "print(\"Train F1 Score: {:.3f}\".format(f1))\n",
    "print('Test Correlation Coefficient {:.3f}'.format(coef[0,1]))\n",
    "print('Confusion matrix:')\n",
    "print(conf_matrix3)\n",
    "\n",
    "randomforest2_accuracy=accuracy\n",
    "accuracy_values.append(randomforest2_accuracy)\n",
    "\n",
    "randomforest2_precision=precision\n",
    "precision_values.append(randomforest2_precision)\n",
    "\n",
    "randomforest2_coef=coef\n",
    "coef_values.append(randomforest2_coef)\n",
    "\n",
    "randomforest2_fscore=fscore\n",
    "fscore_values.append(randomforest2_fscore)\n",
    "\n",
    "\n",
    "    \n",
    "    \n",
    "#randomforest2_function()"
   ]
  },
  {
   "cell_type": "code",
   "execution_count": 24,
   "id": "e69c613b-35e7-4b54-aca9-8b28dcf5bd1b",
   "metadata": {},
   "outputs": [
    {
     "name": "stdout",
     "output_type": "stream",
     "text": [
      "MLP\n",
      "Fitting 4 folds for each of 45 candidates, totalling 180 fits\n",
      "TRAIN RESULTS\n",
      "Train Accuracy: 0.572\n",
      "Train Precision: 0.572\n",
      "Train Recall 1.000\n",
      "Train F1 Score: 0.417\n",
      "Train Correlation Coefficient nan\n",
      "Confusion matrix:\n",
      "[[   0 1174    0    0    0    0    0]\n",
      " [   0 1783    0    0    0    0    0]\n",
      " [   0   74    0    0    0    0    0]\n",
      " [   0    4    0    0    0    0    0]\n",
      " [   0   32    0    0    0    0    0]\n",
      " [   0    6    0    0    0    0    0]\n",
      " [   0   43    0    0    0    0    0]]\n",
      "TEST RESULTS\n",
      "Test Accuracy: 0.588\n",
      "Test Precision: 0.588\n",
      "Test Recall 1.000\n",
      "Train F1 Score: 0.436\n",
      "Test Correlation Coefficient nan\n",
      "Confusion matrix:\n",
      "[[  0 292   0   0   0   0]\n",
      " [  0 459   0   0   0   0]\n",
      " [  0  12   0   0   0   0]\n",
      " [  0   6   0   0   0   0]\n",
      " [  0   1   0   0   0   0]\n",
      " [  0  10   0   0   0   0]]\n"
     ]
    },
    {
     "name": "stderr",
     "output_type": "stream",
     "text": [
      "C:\\Users\\zeeyn\\anaconda3\\lib\\site-packages\\numpy\\lib\\function_base.py:2691: RuntimeWarning: invalid value encountered in true_divide\n",
      "  c /= stddev[:, None]\n",
      "C:\\Users\\zeeyn\\anaconda3\\lib\\site-packages\\numpy\\lib\\function_base.py:2692: RuntimeWarning: invalid value encountered in true_divide\n",
      "  c /= stddev[None, :]\n",
      "C:\\Users\\zeeyn\\anaconda3\\lib\\site-packages\\sklearn\\metrics\\_classification.py:1318: UndefinedMetricWarning: Precision and F-score are ill-defined and being set to 0.0 in labels with no predicted samples. Use `zero_division` parameter to control this behavior.\n",
      "  _warn_prf(average, modifier, msg_start, len(result))\n",
      "C:\\Users\\zeeyn\\anaconda3\\lib\\site-packages\\numpy\\lib\\function_base.py:2691: RuntimeWarning: invalid value encountered in true_divide\n",
      "  c /= stddev[:, None]\n",
      "C:\\Users\\zeeyn\\anaconda3\\lib\\site-packages\\numpy\\lib\\function_base.py:2692: RuntimeWarning: invalid value encountered in true_divide\n",
      "  c /= stddev[None, :]\n",
      "C:\\Users\\zeeyn\\anaconda3\\lib\\site-packages\\sklearn\\metrics\\_classification.py:1318: UndefinedMetricWarning: Precision and F-score are ill-defined and being set to 0.0 in labels with no predicted samples. Use `zero_division` parameter to control this behavior.\n",
      "  _warn_prf(average, modifier, msg_start, len(result))\n"
     ]
    }
   ],
   "source": [
    "print('MLP')\n",
    "mlc = MLPClassifier(random_state=1, early_stopping=True)\n",
    "# MLP\n",
    "parameters={'learning_rate': [\"constant\", \"invscaling\", \"adaptive\"],\n",
    "                   'hidden_layer_sizes': [(10, 5), (15, 10), (20, 15), (100,), (100, 50, 25)],\n",
    "                   'activation': [\"logistic\", \"relu\", \"tanh\"]}\n",
    "\n",
    "model = GridSearchCV(mlc, parameters, n_jobs=-1, verbose=1, cv=4)\n",
    "model.fit(X_train, y_train)\n",
    "\n",
    "y_predict = model.predict(X_train)\n",
    "coef = np.corrcoef(y_predict, y_train)\n",
    "accuracy = accuracy_score(y_train, y_predict)\n",
    "precision, recall, fscore, support = precision_recall_fscore_support(y_train, y_predict)\n",
    "conf_matrix4 = confusion_matrix(y_train, y_predict)\n",
    "f1 = f1_score(y_train, y_predict, average='weighted')\n",
    "\n",
    "print('TRAIN RESULTS')\n",
    "print('Train Accuracy: {:.3f}'.format(accuracy))\n",
    "print('Train Precision: {:.3f}'.format(precision[1]))\n",
    "print('Train Recall {:.3f}'.format(recall[1]))\n",
    "print(\"Train F1 Score: {:.3f}\".format(f1))\n",
    "print('Train Correlation Coefficient {:.3f}'.format(coef[0,1]))\n",
    "print('Confusion matrix:')\n",
    "print(conf_matrix4)\n",
    "\n",
    "y_predict = model.predict(X_test)\n",
    "coef = np.corrcoef(y_predict, y_test)\n",
    "accuracy = accuracy_score(y_test, y_predict)\n",
    "precision, recall, fscore, support = precision_recall_fscore_support(y_test, y_predict)\n",
    "conf_matrix4 = confusion_matrix(y_test, y_predict)\n",
    "f1 = f1_score(y_test, y_predict, average='weighted')\n",
    "\n",
    "print('TEST RESULTS')\n",
    "print('Test Accuracy: {:.3f}'.format(accuracy))\n",
    "print('Test Precision: {:.3f}'.format(precision[1]))\n",
    "print('Test Recall {:.3f}'.format(recall[1]))\n",
    "print(\"Train F1 Score: {:.3f}\".format(f1))\n",
    "print('Test Correlation Coefficient {:.3f}'.format(coef[0,1]))\n",
    "print('Confusion matrix:')\n",
    "print(conf_matrix4)\n",
    "\n",
    "mlp_accuracy=accuracy\n",
    "accuracy_values.append(mlp_accuracy)\n",
    "\n",
    "mlp_precision=precision\n",
    "precision_values.append(mlp_precision)\n",
    "\n",
    "mlp_coef=coef\n",
    "coef_values.append(mlp_coef)\n",
    "\n",
    "mlp_fscore=fscore\n",
    "fscore_values.append(mlp_fscore)\n",
    "\n",
    "#mlp_function()"
   ]
  },
  {
   "cell_type": "code",
   "execution_count": 25,
   "id": "de03120d-3df5-448e-8c7e-a1b7ebfa8bcc",
   "metadata": {},
   "outputs": [
    {
     "name": "stdout",
     "output_type": "stream",
     "text": [
      "MLP2\n",
      "Fitting 4 folds for each of 54 candidates, totalling 216 fits\n",
      "TRAIN RESULTS\n",
      "Train Accuracy: 0.572\n",
      "Train Precision: 0.572\n",
      "Train Recall 1.000\n",
      "Train F1 Score: 0.417\n",
      "Train Correlation Coefficient nan\n",
      "Confusion matrix:\n",
      "[[   0 1174    0    0    0    0    0]\n",
      " [   0 1783    0    0    0    0    0]\n",
      " [   0   74    0    0    0    0    0]\n",
      " [   0    4    0    0    0    0    0]\n",
      " [   0   32    0    0    0    0    0]\n",
      " [   0    6    0    0    0    0    0]\n",
      " [   0   43    0    0    0    0    0]]\n",
      "TEST RESULTS\n",
      "Test Accuracy: 0.588\n",
      "Test Precision: 0.588\n",
      "Test Recall 1.000\n",
      "Train F1 Score: 0.436\n",
      "Test Correlation Coefficient nan\n",
      "Confusion matrix:\n",
      "[[  0 292   0   0   0   0]\n",
      " [  0 459   0   0   0   0]\n",
      " [  0  12   0   0   0   0]\n",
      " [  0   6   0   0   0   0]\n",
      " [  0   1   0   0   0   0]\n",
      " [  0  10   0   0   0   0]]\n"
     ]
    },
    {
     "name": "stderr",
     "output_type": "stream",
     "text": [
      "C:\\Users\\zeeyn\\anaconda3\\lib\\site-packages\\numpy\\lib\\function_base.py:2691: RuntimeWarning: invalid value encountered in true_divide\n",
      "  c /= stddev[:, None]\n",
      "C:\\Users\\zeeyn\\anaconda3\\lib\\site-packages\\numpy\\lib\\function_base.py:2692: RuntimeWarning: invalid value encountered in true_divide\n",
      "  c /= stddev[None, :]\n",
      "C:\\Users\\zeeyn\\anaconda3\\lib\\site-packages\\sklearn\\metrics\\_classification.py:1318: UndefinedMetricWarning: Precision and F-score are ill-defined and being set to 0.0 in labels with no predicted samples. Use `zero_division` parameter to control this behavior.\n",
      "  _warn_prf(average, modifier, msg_start, len(result))\n",
      "C:\\Users\\zeeyn\\anaconda3\\lib\\site-packages\\numpy\\lib\\function_base.py:2691: RuntimeWarning: invalid value encountered in true_divide\n",
      "  c /= stddev[:, None]\n",
      "C:\\Users\\zeeyn\\anaconda3\\lib\\site-packages\\numpy\\lib\\function_base.py:2692: RuntimeWarning: invalid value encountered in true_divide\n",
      "  c /= stddev[None, :]\n",
      "C:\\Users\\zeeyn\\anaconda3\\lib\\site-packages\\sklearn\\metrics\\_classification.py:1318: UndefinedMetricWarning: Precision and F-score are ill-defined and being set to 0.0 in labels with no predicted samples. Use `zero_division` parameter to control this behavior.\n",
      "  _warn_prf(average, modifier, msg_start, len(result))\n"
     ]
    }
   ],
   "source": [
    "print('MLP2')\n",
    "mlc = MLPClassifier(random_state=1, early_stopping=True)\n",
    "# MLP\n",
    "parameters={'learning_rate': [\"constant\", \"invscaling\", \"adaptive\"],\n",
    "                   'hidden_layer_sizes': [(50, 25), (75, 50), (100, 75), (100, 75, 50), (50, 50, 25), (100, 100, 50)],\n",
    "                   'activation': [\"logistic\", \"relu\", \"tanh\"]}\n",
    "\n",
    "model = GridSearchCV(mlc, parameters, n_jobs=-1, verbose=1, cv=4)\n",
    "model.fit(X_train, y_train)\n",
    "\n",
    "y_predict = model.predict(X_train)\n",
    "coef = np.corrcoef(y_predict, y_train)\n",
    "accuracy = accuracy_score(y_train, y_predict)\n",
    "precision, recall, fscore, support = precision_recall_fscore_support(y_train, y_predict)\n",
    "conf_matrix5 = confusion_matrix(y_train, y_predict)\n",
    "f1 = f1_score(y_train, y_predict, average='weighted')\n",
    "\n",
    "print('TRAIN RESULTS')\n",
    "print('Train Accuracy: {:.3f}'.format(accuracy))\n",
    "print('Train Precision: {:.3f}'.format(precision[1]))\n",
    "print('Train Recall {:.3f}'.format(recall[1]))\n",
    "print(\"Train F1 Score: {:.3f}\".format(f1))\n",
    "print('Train Correlation Coefficient {:.3f}'.format(coef[0,1]))\n",
    "print('Confusion matrix:')\n",
    "print(conf_matrix5)\n",
    "\n",
    "y_predict = model.predict(X_test)\n",
    "coef = np.corrcoef(y_predict, y_test)\n",
    "accuracy = accuracy_score(y_test, y_predict)\n",
    "precision, recall, fscore, support = precision_recall_fscore_support(y_test, y_predict)\n",
    "conf_matrix5 = confusion_matrix(y_test, y_predict)\n",
    "f1 = f1_score(y_test, y_predict, average='weighted')\n",
    "\n",
    "print('TEST RESULTS')\n",
    "print('Test Accuracy: {:.3f}'.format(accuracy))\n",
    "print('Test Precision: {:.3f}'.format(precision[1]))\n",
    "print('Test Recall {:.3f}'.format(recall[1]))\n",
    "print(\"Train F1 Score: {:.3f}\".format(f1))\n",
    "print('Test Correlation Coefficient {:.3f}'.format(coef[0,1]))\n",
    "print('Confusion matrix:')\n",
    "print(conf_matrix5)\n",
    "\n",
    "mlp_accuracy=accuracy\n",
    "accuracy_values.append(mlp_accuracy)\n",
    "\n",
    "mlp_precision=precision\n",
    "precision_values.append(mlp_precision)\n",
    "\n",
    "mlp_coef=coef\n",
    "coef_values.append(mlp_coef)\n",
    "\n",
    "mlp_fscore=fscore\n",
    "fscore_values.append(mlp_fscore)\n",
    "\n"
   ]
  },
  {
   "cell_type": "code",
   "execution_count": 26,
   "id": "2ad2507e-3d3e-42d8-8ddd-eeb2d9f59468",
   "metadata": {},
   "outputs": [],
   "source": [
    "def decisiontree_function():\n",
    "    frame = tk.Toplevel(window)\n",
    "    frame.title(\"Heatmap of Decision Tree\")\n",
    "\n",
    "    fig = Figure(figsize=(7, 6), dpi=100)\n",
    "    ax = fig.add_subplot(111)\n",
    "\n",
    "    sns.heatmap(conf_matrix1, cmap=\"Blues\", annot=True, fmt=\"d\", xticklabels=[\"siddetli y.\",\"gunesli\",\"bulutlu\",\"hafif y.\",\"karlı\",\"sisli\"], yticklabels=[\"siddetli y.\",\"gunesli\",\"bulutlu\",\"hafif y.\",\"karlı\",\"sisli\"], ax=ax)\n",
    "    ax.set_xlabel(\"Predicted\")\n",
    "    ax.set_ylabel(\"Actual\")\n",
    "\n",
    "    canvas = FigureCanvasTkAgg(fig, master=frame)\n",
    "    canvas.draw()\n",
    "    canvas.get_tk_widget().pack()\n",
    "\n",
    "    toolbar = NavigationToolbar2Tk(canvas, frame)\n",
    "    toolbar.update()\n",
    "    canvas.get_tk_widget().pack()\n",
    "\n",
    "\n",
    "    \n",
    "def randomforest1_function():\n",
    "    frame = tk.Toplevel(window)\n",
    "    frame.title(\"Heatmap of Random Forest 1\")\n",
    "\n",
    "    fig = Figure(figsize=(7, 6), dpi=100)\n",
    "    ax = fig.add_subplot(111)\n",
    "\n",
    "    sns.heatmap(conf_matrix2, cmap=\"Blues\", annot=True, fmt=\"d\", xticklabels=[\"siddetli y.\",\"gunesli\",\"bulutlu\",\"hafif y.\",\"karlı\",\"sisli\"], yticklabels=[\"siddetli y.\",\"gunesli\",\"bulutlu\",\"hafif y.\",\"karlı\",\"sisli\"], ax=ax)\n",
    "    ax.set_xlabel(\"Predicted\")\n",
    "    ax.set_ylabel(\"Actual\")\n",
    "\n",
    "    canvas = FigureCanvasTkAgg(fig, master=frame)\n",
    "    canvas.draw()\n",
    "    canvas.get_tk_widget().pack()\n",
    "\n",
    "    toolbar = NavigationToolbar2Tk(canvas, frame)\n",
    "    toolbar.update()\n",
    "    canvas.get_tk_widget().pack()\n",
    "\n",
    "\n",
    "    \n",
    "def randomforest2_function():\n",
    "    frame = tk.Toplevel(window)\n",
    "    frame.title(\"Heatmap of Random Forest 2\")\n",
    "\n",
    "    fig = Figure(figsize=(7, 6), dpi=100)\n",
    "    ax = fig.add_subplot(111)\n",
    "\n",
    "    sns.heatmap(conf_matrix3, cmap=\"Blues\", annot=True, fmt=\"d\", xticklabels=[\"siddetli y.\",\"gunesli\",\"bulutlu\",\"hafif y.\",\"karlı\",\"sisli\"], yticklabels=[\"siddetli y.\",\"gunesli\",\"bulutlu\",\"hafif y.\",\"karlı\",\"sisli\"], ax=ax)\n",
    "    ax.set_xlabel(\"Predicted\")\n",
    "    ax.set_ylabel(\"Actual\")\n",
    "\n",
    "    canvas = FigureCanvasTkAgg(fig, master=frame)\n",
    "    canvas.draw()\n",
    "    canvas.get_tk_widget().pack()\n",
    "\n",
    "    toolbar = NavigationToolbar2Tk(canvas, frame)\n",
    "    toolbar.update()\n",
    "    canvas.get_tk_widget().pack()\n",
    "\n",
    "\n",
    "    \n",
    "    \n",
    "def mlp_function():\n",
    "    frame = tk.Toplevel(window)\n",
    "    frame.title(\"Heatmap of Multi Layer Perceptron\")\n",
    "\n",
    "    fig = Figure(figsize=(7, 6), dpi=100)\n",
    "    ax = fig.add_subplot(111)\n",
    "\n",
    "    sns.heatmap(conf_matrix4, cmap=\"Blues\", annot=True, fmt=\"d\", xticklabels=[\"siddetli y.\",\"gunesli\",\"bulutlu\",\"hafif y.\",\"karlı\",\"sisli\"], yticklabels=[\"siddetli y.\",\"gunesli\",\"bulutlu\",\"hafif y.\",\"karlı\",\"sisli\"], ax=ax)\n",
    "    ax.set_xlabel(\"Predicted\")\n",
    "    ax.set_ylabel(\"Actual\")\n",
    "\n",
    "    canvas = FigureCanvasTkAgg(fig, master=frame)\n",
    "    canvas.draw()\n",
    "    canvas.get_tk_widget().pack()\n",
    "\n",
    "    toolbar = NavigationToolbar2Tk(canvas, frame)\n",
    "    toolbar.update()\n",
    "    canvas.get_tk_widget().pack()\n",
    "\n",
    "def mlp2_function():\n",
    "    frame = tk.Toplevel(window)\n",
    "    frame.title(\"Heatmap of Multi Layer Perceptron\")\n",
    "\n",
    "    fig = Figure(figsize=(7, 6), dpi=100)\n",
    "    ax = fig.add_subplot(111)\n",
    "\n",
    "    sns.heatmap(conf_matrix4, cmap=\"Blues\", annot=True, fmt=\"d\", xticklabels=[\"siddetli y.\",\"gunesli\",\"bulutlu\",\"hafif y.\",\"karlı\",\"sisli\"], yticklabels=[\"siddetli y.\",\"gunesli\",\"bulutlu\",\"hafif y.\",\"karlı\",\"sisli\"], ax=ax)\n",
    "    ax.set_xlabel(\"Predicted\")\n",
    "    ax.set_ylabel(\"Actual\")\n",
    "\n",
    "    canvas = FigureCanvasTkAgg(fig, master=frame)\n",
    "    canvas.draw()\n",
    "    canvas.get_tk_widget().pack()\n",
    "\n",
    "    toolbar = NavigationToolbar2Tk(canvas, frame)\n",
    "    toolbar.update()\n",
    "    canvas.get_tk_widget().pack()\n",
    "\n"
   ]
  },
  {
   "cell_type": "code",
   "execution_count": 27,
   "id": "3fceece9-5a8e-4ece-ac02-51a12ac6a9e9",
   "metadata": {},
   "outputs": [],
   "source": [
    "algorithm_names=[\"Desicion Tree\", \"Random Forest 1\", \"Random Forest 2\", \"MLP\", \"MLP2\"]"
   ]
  },
  {
   "cell_type": "code",
   "execution_count": 28,
   "id": "8089232f-1e08-4a27-902f-22505c4a24b6",
   "metadata": {},
   "outputs": [
    {
     "name": "stdout",
     "output_type": "stream",
     "text": [
      "[0.7, 0.7782051282051282, 0.7884615384615384, 0.5884615384615385, 0.5884615384615385]\n"
     ]
    }
   ],
   "source": [
    "print(accuracy_values)"
   ]
  },
  {
   "cell_type": "code",
   "execution_count": 29,
   "id": "26046b30-8f0e-4fff-8d46-658903e289bc",
   "metadata": {},
   "outputs": [
    {
     "name": "stdout",
     "output_type": "stream",
     "text": [
      "[array([0.62937063, 0.79166667, 0.21052632, 0.14285714, 0.        ,\n",
      "       0.        ]), array([0.70779221, 0.84140969, 0.5       , 0.        , 0.        ,\n",
      "       0.        ]), array([0.73      , 0.83836207, 0.5       , 0.        , 0.        ,\n",
      "       0.        ]), array([0.        , 0.58846154, 0.        , 0.        , 0.        ,\n",
      "       0.        ]), array([0.        , 0.58846154, 0.        , 0.        , 0.        ,\n",
      "       0.        ])]\n"
     ]
    }
   ],
   "source": [
    "print(precision_values)"
   ]
  },
  {
   "cell_type": "code",
   "execution_count": 30,
   "id": "d041b70b-df1e-431b-aa55-c66ec95e969b",
   "metadata": {},
   "outputs": [
    {
     "name": "stdout",
     "output_type": "stream",
     "text": [
      "[array([[1.        , 0.10647366],\n",
      "       [0.10647366, 1.        ]]), array([[1.        , 0.22524431],\n",
      "       [0.22524431, 1.        ]]), array([[1.        , 0.29141919],\n",
      "       [0.29141919, 1.        ]]), array([[nan, nan],\n",
      "       [nan,  1.]]), array([[nan, nan],\n",
      "       [nan,  1.]])]\n"
     ]
    }
   ],
   "source": [
    "print(coef_values)"
   ]
  },
  {
   "cell_type": "code",
   "execution_count": 31,
   "id": "650ff410-418f-46b4-8e24-9499bc5a5fcd",
   "metadata": {},
   "outputs": [
    {
     "name": "stdout",
     "output_type": "stream",
     "text": [
      "[array([0.62283737, 0.78907104, 0.25806452, 0.15384615, 0.        ,\n",
      "       0.        ]), array([0.72666667, 0.83680175, 0.53846154, 0.        , 0.        ,\n",
      "       0.        ]), array([0.73986486, 0.84290358, 0.53846154, 0.        , 0.        ,\n",
      "       0.        ]), array([0.       , 0.7409201, 0.       , 0.       , 0.       , 0.       ]), array([0.       , 0.7409201, 0.       , 0.       , 0.       , 0.       ])]\n"
     ]
    }
   ],
   "source": [
    "print(fscore_values)"
   ]
  },
  {
   "cell_type": "code",
   "execution_count": 32,
   "id": "93907ca2-374c-42dd-bfe4-c9b464a0475e",
   "metadata": {},
   "outputs": [],
   "source": [
    "def comparison():\n",
    "\n",
    "    # Plotting the bar chart\n",
    "    plt.figure(figsize=(10, 6))\n",
    "    plt.bar(algorithm_names, accuracy_values)\n",
    "    plt.xlabel(\"Algorithms\")\n",
    "    plt.ylabel(\"Accuracy Values\")\n",
    "    plt.title(\"Accuracy Values of Machine Learning Algorithms\")\n",
    "\n",
    "    # Creating a new window for the plot\n",
    "    window = tk.Toplevel()\n",
    "    window.title(\"Accuracy Values of Machine Learning Algorithms\")\n",
    "    window.geometry(\"700x500\")\n",
    "\n",
    "    # Embedding the plot in the Tkinter window\n",
    "    canvas = FigureCanvasTkAgg(plt.gcf(), master=window)\n",
    "    canvas.draw()\n",
    "    canvas.get_tk_widget().pack()\n",
    "\n",
    "    # Adding a toolbar for navigation\n",
    "    toolbar = NavigationToolbar2Tk(canvas, window)\n",
    "    toolbar.update()\n",
    "    canvas.get_tk_widget().pack()"
   ]
  },
  {
   "cell_type": "code",
   "execution_count": 33,
   "id": "06763bf8-6983-4228-bfaa-938c1d4638d6",
   "metadata": {},
   "outputs": [],
   "source": [
    "def decisiontreevalues():\n",
    "    # Creating a new window for the plot\n",
    "    window = tk.Toplevel()\n",
    "    window.title(\"Decision Tree Values\")\n",
    "    window.geometry(\"400x500\")\n",
    "    window.configure(background=\"lightblue\")\n",
    "    \n",
    "    accuracy_text = \"Accuracy: \" + str(accuracy_values[0])\n",
    "    precision_text = \"Precision: \" + str(precision_values[1][0])\n",
    "    coef_text = \"Correlation Coefficient: \" + str(coef_values[0][0][1])\n",
    "    fscore_text = \"F1 Score: \" + str(fscore_values[0][0])\n",
    "    \n",
    "    label1 = tk.Label(window, text=accuracy_text, fg=\"dark blue\")\n",
    "    label1.pack()\n",
    "    \n",
    "    label2 = tk.Label(window, text=precision_text, fg=\"dark blue\")\n",
    "    label2.pack()\n",
    "    \n",
    "    label3 = tk.Label(window, text=coef_text, fg=\"dark blue\")\n",
    "    label3.pack()\n",
    "    \n",
    "    label4 = tk.Label(window, text=fscore_text, fg=\"dark blue\")\n",
    "    label4.pack()\n",
    "\n",
    "    # Embedding the plot in the Tkinter window\n",
    "    canvas = FigureCanvasTkAgg(plt.gcf(), master=window)\n",
    "    canvas.draw()\n",
    "    canvas.get_tk_widget().pack()\n",
    "\n",
    "    # Adding a toolbar for navigation\n",
    "    toolbar = NavigationToolbar2Tk(canvas, window)\n",
    "    toolbar.update()\n",
    "    canvas.get_tk_widget().pack()"
   ]
  },
  {
   "cell_type": "code",
   "execution_count": 34,
   "id": "c8e4f0e1-a17f-430f-9f7c-cb959948611e",
   "metadata": {},
   "outputs": [],
   "source": [
    "def randomforest1values():\n",
    "    # Creating a new window for the plot\n",
    "    window = tk.Toplevel()\n",
    "    window.title(\"Random Forest 1 Values\")\n",
    "    window.geometry(\"400x500\")\n",
    "    window.configure(background=\"lightblue\")\n",
    "    \n",
    "    accuracy_text = \"Accuracy: \" + str(accuracy_values[1])\n",
    "    precision_text = \"Precision: \" + str(precision_values[1][1])\n",
    "    coef_text = \"Correlation Coefficient: \" + str(coef_values[1][1][0])\n",
    "    fscore_text = \"F1 Score: \" + str(fscore_values[0][0])\n",
    "    \n",
    "    label1 = tk.Label(window, text=accuracy_text, fg=\"dark blue\")\n",
    "    label1.pack()\n",
    "    \n",
    "    label2 = tk.Label(window, text=precision_text, fg=\"dark blue\")\n",
    "    label2.pack()\n",
    "    \n",
    "    label3 = tk.Label(window, text=coef_text, fg=\"dark blue\")\n",
    "    label3.pack()\n",
    "    \n",
    "    label4 = tk.Label(window, text=fscore_text, fg=\"dark blue\")\n",
    "    label4.pack()\n",
    "\n",
    "    # Embedding the plot in the Tkinter window\n",
    "    canvas = FigureCanvasTkAgg(plt.gcf(), master=window)\n",
    "    canvas.draw()\n",
    "    canvas.get_tk_widget().pack()\n",
    "\n",
    "    # Adding a toolbar for navigation\n",
    "    toolbar = NavigationToolbar2Tk(canvas, window)\n",
    "    toolbar.update()\n",
    "    canvas.get_tk_widget().pack()"
   ]
  },
  {
   "cell_type": "code",
   "execution_count": 35,
   "id": "69fcba20-226c-4101-b22c-ada47271c722",
   "metadata": {},
   "outputs": [],
   "source": [
    "def randomforest2values():\n",
    "    # Creating a new window for the plot\n",
    "    window = tk.Toplevel()\n",
    "    window.title(\"Random Forest 2 Values\")\n",
    "    window.geometry(\"400x500\")\n",
    "    window.configure(background=\"lightblue\")\n",
    "    \n",
    "    accuracy_text = \"Accuracy: \" + str(accuracy_values[2])\n",
    "    precision_text = \"Precision: \" + str(precision_values[2][1])\n",
    "    coef_text = \"Correlation Coefficient: \" + str(coef_values[2][1][0])\n",
    "    fscore_text = \"F1 Score: \" + str(fscore_values[0][0])\n",
    "    \n",
    "    label1 = tk.Label(window, text=accuracy_text, fg=\"dark blue\")\n",
    "    label1.pack()\n",
    "    \n",
    "    label2 = tk.Label(window, text=precision_text, fg=\"dark blue\")\n",
    "    label2.pack()\n",
    "    \n",
    "    label3 = tk.Label(window, text=coef_text, fg=\"dark blue\")\n",
    "    label3.pack()\n",
    "    \n",
    "    label4 = tk.Label(window, text=fscore_text, fg=\"dark blue\")\n",
    "    label4.pack()\n",
    "\n",
    "    # Embedding the plot in the Tkinter window\n",
    "    canvas = FigureCanvasTkAgg(plt.gcf(), master=window)\n",
    "    canvas.draw()\n",
    "    canvas.get_tk_widget().pack()\n",
    "\n",
    "    # Adding a toolbar for navigation\n",
    "    toolbar = NavigationToolbar2Tk(canvas, window)\n",
    "    toolbar.update()\n",
    "    canvas.get_tk_widget().pack()"
   ]
  },
  {
   "cell_type": "code",
   "execution_count": 36,
   "id": "4734c2ff-c008-4fb5-9062-5edb66aedae1",
   "metadata": {},
   "outputs": [],
   "source": [
    "def mlpvalues():\n",
    "    # Creating a new window for the plot\n",
    "    window = tk.Toplevel()\n",
    "    window.title(\"MLP Values\")\n",
    "    window.geometry(\"400x500\")\n",
    "    window.configure(background=\"lightblue\")\n",
    "    \n",
    "    accuracy_text = \"Accuracy: \" + str(accuracy_values[3])\n",
    "    precision_text = \"Precision: \" + str(precision_values[3][1])\n",
    "    coef_text = \"Correlation Coefficient: \" + str(coef_values[3][1][0])\n",
    "    fscore_text = \"F1 Score: \" + str(fscore_values[0][0])\n",
    "    \n",
    "    label1 = tk.Label(window, text=accuracy_text, fg=\"dark blue\")\n",
    "    label1.pack()\n",
    "    \n",
    "    label2 = tk.Label(window, text=precision_text, fg=\"dark blue\")\n",
    "    label2.pack()\n",
    "    \n",
    "    label3 = tk.Label(window, text=coef_text, fg=\"dark blue\")\n",
    "    label3.pack()\n",
    "    \n",
    "    label4 = tk.Label(window, text=fscore_text, fg=\"dark blue\")\n",
    "    label4.pack()\n",
    "\n",
    "    # Embedding the plot in the Tkinter window\n",
    "    canvas = FigureCanvasTkAgg(plt.gcf(), master=window)\n",
    "    canvas.draw()\n",
    "    canvas.get_tk_widget().pack()\n",
    "\n",
    "    # Adding a toolbar for navigation\n",
    "    toolbar = NavigationToolbar2Tk(canvas, window)\n",
    "    toolbar.update()\n",
    "    canvas.get_tk_widget().pack()"
   ]
  },
  {
   "cell_type": "code",
   "execution_count": 37,
   "id": "b3d9cfbc-52b1-41f3-aee7-c3b2a787248f",
   "metadata": {},
   "outputs": [],
   "source": [
    "def mlp2values():\n",
    "    # Creating a new window for the plot\n",
    "    window = tk.Toplevel()\n",
    "    window.title(\"MLP Values\")\n",
    "    window.geometry(\"400x500\")\n",
    "    window.configure(background=\"lightblue\")\n",
    "    \n",
    "    accuracy_text = \"Accuracy: \" + str(accuracy_values[4])\n",
    "    precision_text = \"Precision: \" + str(precision_values[4][1])\n",
    "    coef_text = \"Correlation Coefficient: \" + str(coef_values[4][1][0])\n",
    "    fscore_text = \"F1 Score: \" + str(fscore_values[0][0])\n",
    "    \n",
    "    label1 = tk.Label(window, text=accuracy_text, fg=\"dark blue\")\n",
    "    label1.pack()\n",
    "    \n",
    "    label2 = tk.Label(window, text=precision_text, fg=\"dark blue\")\n",
    "    label2.pack()\n",
    "    \n",
    "    label3 = tk.Label(window, text=coef_text, fg=\"dark blue\")\n",
    "    label3.pack()\n",
    "    \n",
    "    label4 = tk.Label(window, text=fscore_text, fg=\"dark blue\")\n",
    "    label4.pack()\n",
    "\n",
    "    # Embedding the plot in the Tkinter window\n",
    "    canvas = FigureCanvasTkAgg(plt.gcf(), master=window)\n",
    "    canvas.draw()\n",
    "    canvas.get_tk_widget().pack()\n",
    "\n",
    "    # Adding a toolbar for navigation\n",
    "    toolbar = NavigationToolbar2Tk(canvas, window)\n",
    "    toolbar.update()\n",
    "    canvas.get_tk_widget().pack()"
   ]
  },
  {
   "cell_type": "code",
   "execution_count": 38,
   "id": "8951f75f-db69-4ffc-a955-6ca2ac83fd97",
   "metadata": {},
   "outputs": [
    {
     "data": {
      "image/png": "[encoded data removed]",
      "text/plain": [
       "<Figure size 720x432 with 1 Axes>"
      ]
     },
     "metadata": {
      "needs_background": "light"
     },
     "output_type": "display_data"
    }
   ],
   "source": [
    "plt.figure(figsize=(10, 6))\n",
    "plt.bar(algorithm_names, accuracy_values)\n",
    "plt.xlabel(\"Algorithms\")\n",
    "plt.ylabel(\"Accuracy Values\")\n",
    "plt.title(\"Accuracy Values of Machine Learning Algorithms\")\n",
    "plt.show()"
   ]
  },
  {
   "cell_type": "code",
   "execution_count": 39,
   "id": "a32cd7c7-5310-4bee-87b5-2cf6e8c8aad1",
   "metadata": {},
   "outputs": [
    {
     "data": {
      "image/png": "[encoded data removed]",
      "text/plain": [
       "<Figure size 432x288 with 1 Axes>"
      ]
     },
     "metadata": {
      "needs_background": "light"
     },
     "output_type": "display_data"
    }
   ],
   "source": [
    "plt.plot(algorithm_names, accuracy_values)\n",
    "plt.xlabel('Algorithms')\n",
    "plt.ylabel('Accuracy Values')\n",
    "plt.title('Line Plot')\n",
    "plt.show()"
   ]
  },
  {
   "cell_type": "code",
   "execution_count": 40,
   "id": "00e83fc3-5612-40dc-b8b8-0ef196ef47c3",
   "metadata": {},
   "outputs": [
    {
     "data": {
      "image/png": "[encoded data removed]",
      "text/plain": [
       "<Figure size 432x288 with 1 Axes>"
      ]
     },
     "metadata": {
      "needs_background": "light"
     },
     "output_type": "display_data"
    }
   ],
   "source": [
    "plt.scatter(algorithm_names, accuracy_values)\n",
    "plt.xlabel('Algorithms')\n",
    "plt.ylabel('Accuracy Values')\n",
    "plt.title('Scatter Plot')\n",
    "plt.show()"
   ]
  },
  {
   "cell_type": "code",
   "execution_count": 41,
   "id": "6b38fdda-02f4-4027-9f40-95110602c1b8",
   "metadata": {},
   "outputs": [],
   "source": [
    "def get_row_info(selected_date):\n",
    "    try:\n",
    "        row = df[df['DateTime'] == selected_date]  # Seçilen tarihe göre veri çerçevesinde ilgili satırı seçiyoruz\n",
    "\n",
    "        if not row.empty:\n",
    "            # Satır bilgilerini gösteren bir mesaj kutusu oluşturuyoruz\n",
    "            message = f\"DateTime: {row['DateTime'].values[0]}\\nCondition: {row['Condition'].values[0]}\\nRain: {row['Rain'].values[0]}\\nMaxTemp: {row['MaxTemp'].values[0]}\\nMinTemp: {row['MinTemp'].values[0]}\\nSunRise: {row['SunRise'].values[0]}\\nSunSet: {row['SunSet'].values[0]}\\nMoonRise: {row['MoonRise'].values[0]}\\nMoonSet: {row['MoonSet'].values[0]}\\nAvgWind: {row['AvgWind'].values[0]}\\nAvgHumidity: {row['AvgHumidity'].values[0]}\\nAvgPressure: {row['AvgPressure'].values[0]}\\nKategori: {row['Kategori'].values[0]}\"\n",
    "            tk.messagebox.showinfo(\"Satır Bilgileri\", message)\n",
    "        else:\n",
    "            tk.messagebox.showwarning(\"Uyarı\", \"Seçilen tarihe ait veri bulunamadı.\")\n",
    "    except Exception as e:\n",
    "        tk.messagebox.showerror(\"Hata\", \"Geçerli bir tarih seçin.\")"
   ]
  },
  {
   "cell_type": "code",
   "execution_count": 42,
   "id": "ba8e66a6-887d-4260-a988-4f869b9b0412",
   "metadata": {},
   "outputs": [],
   "source": [
    "def exit_program():\n",
    "    window.destroy()"
   ]
  },
  {
   "cell_type": "code",
   "execution_count": 44,
   "id": "271e0fc0-1650-44ec-9d43-e14fe61c6d53",
   "metadata": {},
   "outputs": [],
   "source": [
    "window = tk.Tk()\n",
    "window.title(\"WEATHER CONDITION\")\n",
    "window.geometry(\"400x500\")\n",
    "window.configure(background=\"lightblue\")\n",
    "\n",
    "label = tk.Label(window, text=\"Please choose any machine learning algorithm or enter a date\", fg=\"dark blue\")\n",
    "label.place(x=23,y=90)\n",
    "\n",
    "button10 = tk.Button(window, text=\"Enter date\", command=get_date, relief=\"groove\")\n",
    "button10.place(x=156,y=111)\n",
    "\n",
    "button2 = tk.Button(window, text=\"Decision Tree Heatmap\", command=decisiontree_function, relief=\"groove\")\n",
    "button2.place(x=23,y=200)\n",
    "\n",
    "button3 = tk.Button(window, text=\"Random Forest 1 Heatmap\", command=randomforest1_function, relief=\"groove\")\n",
    "button3.place(x=23,y=250)\n",
    "\n",
    "button4 = tk.Button(window, text=\"Random Forest 2 Heatmap\", command=randomforest2_function, relief=\"groove\")\n",
    "button4.place(x=23,y=300)\n",
    "\n",
    "button5 = tk.Button(window, text=\"MLP 1 Heatmap\", command=mlp_function, relief=\"groove\")\n",
    "button5.place(x=23,y=350)\n",
    "\n",
    "button5 = tk.Button(window, text=\"MLP 2 Heatmap\", command=mlp_function, relief=\"groove\")\n",
    "button5.place(x=23,y=400)\n",
    "\n",
    "button6 = tk.Button(window, text=\"Comparison of all algorithms\", command=comparison, relief =\"groove\")\n",
    "button6.place(x=70,y=450)\n",
    "\n",
    "button7 = tk.Button(window, text=\"Decision Tree Values\", command=decisiontreevalues, relief=\"groove\")\n",
    "button7.place(x=230,y=200)\n",
    "\n",
    "button8 = tk.Button(window, text=\"Random Forest 1 Values\", command=randomforest1values, relief=\"groove\")\n",
    "button8.place(x=230,y=250)\n",
    "\n",
    "button9 = tk.Button(window, text=\"Random Forest 2 Values\", command=randomforest2values, relief=\"groove\")\n",
    "button9.place(x=230,y=300)\n",
    "\n",
    "button9 = tk.Button(window, text=\"MLP 1 Values\", command=mlpvalues, relief=\"groove\")\n",
    "button9.place(x=230,y=350)\n",
    "\n",
    "button9 = tk.Button(window, text=\"MLP 2 Values\", command=mlpvalues, relief=\"groove\")\n",
    "button9.place(x=230,y=400)\n",
    "\n",
    "button10 = tk.Button(window, text=\"Exit\", command=exit_program, relief=\"groove\")\n",
    "button10.place(x=280,y=450)\n",
    "\n",
    "window.mainloop()"
   ]
  },
  {
   "cell_type": "code",
   "execution_count": null,
   "id": "6e791f67-feb7-42c5-b818-6ba759485b73",
   "metadata": {},
   "outputs": [],
   "source": []
  }
 ],
 "metadata": {
  "kernelspec": {
   "display_name": "Python 3 (ipykernel)",
   "language": "python",
   "name": "python3"
  },
  "language_info": {
   "codemirror_mode": {
    "name": "ipython",
    "version": 3
   },
   "file_extension": ".py",
   "mimetype": "text/x-python",
   "name": "python",
   "nbconvert_exporter": "python",
   "pygments_lexer": "ipython3",
   "version": "3.9.12"
  }
 },
 "nbformat": 4,
 "nbformat_minor": 5
}
